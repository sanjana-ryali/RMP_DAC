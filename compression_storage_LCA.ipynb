{
 "cells": [
  {
   "cell_type": "code",
   "execution_count": 1,
   "id": "ae19148a",
   "metadata": {},
   "outputs": [],
   "source": [
    "import numpy as np\n",
    "import pyprind\n",
    "import seaborn as sns\n",
    "import pandas as pd\n",
    "import os\n",
    "import pprint\n",
    "import copy\n",
    "import wurst as w\n",
    "import brightway2 as bw\n",
    "from brightway2 import *\n",
    "from matplotlib import pyplot as plt\n",
    "from pandas import DataFrame\n",
    "from openpyxl import load_workbook\n",
    "import collections"
   ]
  },
  {
   "cell_type": "code",
   "execution_count": 3,
   "id": "89f2dce5",
   "metadata": {},
   "outputs": [],
   "source": [
    "list(bw.projects)\n",
    "bw.projects.set_current(\"RMP_DAC\")"
   ]
  },
  {
   "cell_type": "code",
   "execution_count": 4,
   "id": "b0878e73",
   "metadata": {},
   "outputs": [
    {
     "data": {
      "text/plain": [
       "Databases dictionary with 2 object(s):\n",
       "\tbiosphere3\n",
       "\tecoinvent3.6_RMP"
      ]
     },
     "execution_count": 4,
     "metadata": {},
     "output_type": "execute_result"
    }
   ],
   "source": [
    "databases"
   ]
  },
  {
   "cell_type": "code",
   "execution_count": 5,
   "id": "61988d13",
   "metadata": {},
   "outputs": [],
   "source": [
    "database_name = 'ecoinvent3.6_RMP'\n",
    "ei_cf_36_db = bw.Database(database_name)"
   ]
  },
  {
   "cell_type": "code",
   "execution_count": 6,
   "id": "303dd61a",
   "metadata": {},
   "outputs": [],
   "source": [
    "# COMPRESSION FACILITY\n",
    "\n",
    "compression_construction = ei_cf_36_db.new_activity(code = 'compression_construction', name = \"Compression Facility Construction\", unit = \"unit\")\n",
    "\n",
    "Concrete_cc = [act for act in ei_cf_36_db if 'market for concrete, normal' == act['name'] and 'RoW' == act['location']][0]\n",
    "Copper_cc = [act for act in ei_cf_36_db if 'market for copper' == act['name'] and 'GLO' == act['location']][0]\n",
    "Low_alloyed_steel_cc = [act for act in ei_cf_36_db if 'market for steel, low-alloyed' == act['name'] and 'GLO' == act['location']][0]\n",
    "Polyethylene_cc = [act for act in ei_cf_36_db if 'market for polyethylene, low density, granulate' == act['name'] and 'GLO' == act['location']][0]\n",
    "Diesel_cc = [act for act in ei_cf_36_db if 'market for diesel' == act['name'] and 'RoW' == act['location']][0]\n",
    "Electricity_cc = [act for act in ei_cf_36_db if 'market group for electricity, medium voltage' == act['name'] and 'GLO' == act['location']][0]\n",
    "\n",
    "compression_construction.new_exchange(input = Concrete_cc.key, amount = 0.000001, unit = \"cubic meter\",type = 'technosphere').save()\n",
    "compression_construction.new_exchange(input = Copper_cc.key, amount = 0.0001, unit = \"kilogram\",type = 'technosphere').save()\n",
    "compression_construction.new_exchange(input = Low_alloyed_steel_cc.key, amount = 0.001, unit = \"kilogram\",type = 'technosphere').save()\n",
    "compression_construction.new_exchange(input = Polyethylene_cc.key, amount = 0.0003, unit = \"kilogram\",type = 'technosphere').save()\n",
    "compression_construction.new_exchange(input = Diesel_cc.key, amount = 0.032, unit = \"MJ\",type = 'technosphere').save()\n",
    "compression_construction.new_exchange(input = Electricity_cc.key, amount = 0.001, unit = \"kWh\",type = 'technosphere').save()\n"
   ]
  },
  {
   "cell_type": "code",
   "execution_count": 7,
   "id": "b78586c5",
   "metadata": {},
   "outputs": [],
   "source": [
    "# PIPELINE TRANSPORT\n",
    "\n",
    "pipeline_transport = ei_cf_36_db.new_activity(code = 'pipeline_transport', name = \"Pipeline Transport\", unit = \"unit\")\n",
    "\n",
    "Sand_pt = [act for act in ei_cf_36_db if 'market for sand' == act['name'] and 'RoW' == act['location']][0]\n",
    "Reinforcing_steel_pt = [act for act in ei_cf_36_db if 'market for reinforcing steel' == act['name'] and 'GLO' == act['location']][0]\n",
    "Steel_pipes_pt = [act for act in ei_cf_36_db if 'market for drawing of pipe, steel' == act['name'] and 'GLO' == act['location']][0]\n",
    "Bitumen_pt = [act for act in ei_cf_36_db if 'market for bitumen seal' == act['name'] and 'GLO' == act['location']][0]\n",
    "Polyethylene_pt = [act for act in ei_cf_36_db if 'market for polyethylene, low density, granulate' == act['name'] and 'GLO' == act['location']][0]\n",
    "Diesel_pt = [act for act in ei_cf_36_db if 'market for diesel' == act['name'] and 'RoW' == act['location']][0]\n",
    "Transport_pt = [act for act in ei_cf_36_db if 'market for transport, freight, lorry, unspecified' == act['name'] and 'RoW' == act['location']][0]\n",
    "\n",
    "pipeline_transport.new_exchange(input = Sand_pt.key, amount = 1.04, unit = \"cubic meter\",type = 'technosphere').save()\n",
    "pipeline_transport.new_exchange(input = Reinforcing_steel_pt.key, amount = 0.13, unit = \"kilogram\",type = 'technosphere').save()\n",
    "pipeline_transport.new_exchange(input = Steel_pipes_pt.key, amount = 0.13, unit = \"kilogram\",type = 'technosphere').save()\n",
    "pipeline_transport.new_exchange(input = Bitumen_pt.key, amount = 0.0012, unit = \"kilogram\",type = 'technosphere').save()\n",
    "pipeline_transport.new_exchange(input = Polyethylene_pt.key, amount = 0.0025, unit = \"kilogram\",type = 'technosphere').save()\n",
    "pipeline_transport.new_exchange(input = Diesel_pt.key, amount = 1.8, unit = \"MJ\",type = 'technosphere').save()\n",
    "pipeline_transport.new_exchange(input = Transport_pt.key, amount = 0.12, unit = \"t*km\",type = 'technosphere').save()"
   ]
  },
  {
   "cell_type": "code",
   "execution_count": 8,
   "id": "24bdb74d",
   "metadata": {},
   "outputs": [],
   "source": [
    "# GEOLOGICAL STORAGE\n",
    "\n",
    "geological_storage = ei_cf_36_db.new_activity(code = 'geological_storage', name = \"Geological Storage\", unit = \"unit\")\n",
    "\n",
    "Well_gs = [act for act in ei_cf_36_db if 'market for onshore well, oil/gas' == act['name'] and 'GLO' == act['location']][0]\n",
    "Sand_gs = [act for act in ei_cf_36_db if 'market for sand' == act['name'] and 'RoW' == act['location']][0]\n",
    "Unalloyed_steel_gs = [act for act in ei_cf_36_db if 'market for steel, unalloyed' == act['name'] and 'GLO' == act['location']][0]\n",
    "Low_alloyed_steel_gs = [act for act in ei_cf_36_db if 'market for steel, low-alloyed' == act['name'] and 'GLO' == act['location']][0]\n",
    "Concrete_gs = [act for act in ei_cf_36_db if 'market for concrete, normal' == act['name'] and 'RoW' == act['location']][0]\n",
    "Copper_gs = [act for act in ei_cf_36_db if 'market for copper' == act['name'] and 'GLO' == act['location']][0]\n",
    "Transport_gs = [act for act in ei_cf_36_db if 'market for transport, freight, lorry, unspecified' == act['name'] and 'RoW' == act['location']][0]\n",
    "\n",
    "geological_storage.new_exchange(input = Well_gs.key, amount = 0.000000082, unit = \"km\",type = 'technosphere').save()\n",
    "geological_storage.new_exchange(input = Sand_gs.key, amount = 3.3, unit = \"kilogram\",type = 'technosphere').save()\n",
    "geological_storage.new_exchange(input = Unalloyed_steel_gs.key, amount = 0.017, unit = \"kilogram\",type = 'technosphere').save()\n",
    "geological_storage.new_exchange(input = Low_alloyed_steel_gs.key, amount = 0.037, unit = \"kilogram\",type = 'technosphere').save()\n",
    "geological_storage.new_exchange(input = Concrete_gs.key, amount = 0.000048, unit = \"cubic meter\",type = 'technosphere').save()\n",
    "geological_storage.new_exchange(input = Copper_gs.key, amount = 0.0019, unit = \"kilogram\",type = 'technosphere').save()\n",
    "geological_storage.new_exchange(input = Transport_gs.key, amount = 0.34, unit = \"t*km\",type = 'technosphere').save()"
   ]
  },
  {
   "cell_type": "code",
   "execution_count": 9,
   "id": "3c7c4481",
   "metadata": {},
   "outputs": [],
   "source": [
    "# OPERATION\n",
    "\n",
    "operation = ei_cf_36_db.new_activity(code = 'operation', name = \"Operation\", unit = \"unit\")\n",
    "\n",
    "Electricity_o = [act for act in ei_cf_36_db if 'market group for electricity, medium voltage' == act['name'] and 'GLO' == act['location']][0]\n",
    "\n",
    "geological_storage.new_exchange(input = Electricity_o.key, amount = 118, unit = \"kWh\",type = 'technosphere').save()"
   ]
  },
  {
   "cell_type": "code",
   "execution_count": 10,
   "id": "d5fa51e7",
   "metadata": {},
   "outputs": [],
   "source": [
    "# END-OF-LIFE\n",
    "\n",
    "eol = ei_cf_36_db.new_activity(code = 'eol', name = \"End Of Life\", unit = \"unit\")\n",
    "\n",
    "Concrete_and_sand_eol = [act for act in ei_cf_36_db if 'treatment of waste concrete, inert material landfill' == act['name'] and 'RoW' == act['location']][0]\n",
    "Steel_eol = [act for act in ei_cf_36_db if 'treatment of waste reinforcement steel, recycling' == act['name'] and 'RoW' == act['location']][0]\n",
    "Copper_eol = [act for act in ei_cf_36_db if 'treatment of scrap copper, municipal incineration' == act['name'] and 'RoW' == act['location']][0]\n",
    "Polyethylene_eol = [act for act in ei_cf_36_db if 'treatment of waste polyethylene, municipal incineration' == act['name'] and 'RoW' == act['location']][0]\n",
    "Bitumen_eol = [act for act in ei_cf_36_db if 'treatment of waste bitumen, sanitary landfill' == act['name'] and 'RoW' == act['location']][0]\n",
    "\n",
    "eol.new_exchange(input = Concrete_and_sand_eol.key, amount = 4.4, unit = \"kilogram\",type = 'technosphere').save()\n",
    "eol.new_exchange(input = Steel_eol.key, amount = 0.26, unit = \"kilogram\",type = 'technosphere').save()\n",
    "eol.new_exchange(input = Copper_eol.key, amount = 0.002, unit = \"kilogram\",type = 'technosphere').save()\n",
    "eol.new_exchange(input = Polyethylene_eol.key, amount = 0.0028, unit = \"kilogram\",type = 'technosphere').save()\n",
    "eol.new_exchange(input = Bitumen_eol.key, amount = 0.0012, unit = \"kilogram\",type = 'technosphere').save()"
   ]
  },
  {
   "cell_type": "code",
   "execution_count": 11,
   "id": "d2368308",
   "metadata": {},
   "outputs": [],
   "source": [
    "# SAVING ACTIVITIES: DO NOT RUN AGAIN\n",
    "\n",
    "compression_construction.save()\n",
    "pipeline_transport.save()\n",
    "geological_storage.save()\n",
    "operation.save()\n",
    "eol.save()"
   ]
  },
  {
   "cell_type": "code",
   "execution_count": 13,
   "id": "b98de525",
   "metadata": {},
   "outputs": [],
   "source": [
    "# SET FUNCTIONAL UNIT\n",
    "\n",
    "compression_construction_fu = {compression_construction:1}\n",
    "pipeline_transport_fu = {pipeline_transport:1}\n",
    "geological_storage_fu = {geological_storage:1}\n",
    "operation_fu = {operation:1}\n",
    "eol_fu = {eol:1}\n"
   ]
  },
  {
   "cell_type": "code",
   "execution_count": 14,
   "id": "3044b6c5",
   "metadata": {},
   "outputs": [],
   "source": [
    "# CREATE LIST TO SAVE RESULT\n",
    "\n",
    "compression_construction_result = []\n",
    "pipeline_transport_result = []\n",
    "geological_storage_result = []\n",
    "operation_result = []\n",
    "eol_result = []\n"
   ]
  },
  {
   "cell_type": "code",
   "execution_count": 15,
   "id": "d5423ccc",
   "metadata": {},
   "outputs": [],
   "source": [
    "# CREATE DICT\n",
    "\n",
    "compression_storage_LCA = collections.defaultdict(dict)\n",
    "\n",
    "compression_storage_LCA['compression_construction'] = {'fu' : compression_construction_fu, 'result': compression_construction_result}\n",
    "compression_storage_LCA['pipeline_transport'] = {'fu' : pipeline_transport_fu, 'result': pipeline_transport_result}\n",
    "compression_storage_LCA['geological_storage'] = {'fu' : geological_storage_fu, 'result': geological_storage_result}\n",
    "compression_storage_LCA['operation'] = {'fu' : operation_fu, 'result': operation_result}\n",
    "compression_storage_LCA['eol'] = {'fu' : eol_fu, 'result': eol_result}\n"
   ]
  },
  {
   "cell_type": "code",
   "execution_count": 16,
   "id": "02a020f2",
   "metadata": {},
   "outputs": [],
   "source": [
    "#DEFINE LCIA METHOD\n",
    "\n",
    "method_key = [m for m in bw.methods if 'ReCiPe Midpoint (H) (obsolete)' in str(m) and 'climate change' in str(m)][0],"
   ]
  },
  {
   "cell_type": "code",
   "execution_count": 17,
   "id": "7a199a6d",
   "metadata": {},
   "outputs": [],
   "source": [
    "#CALCULATE LCIA\n",
    "\n",
    "for key in compression_storage_LCA.keys():\n",
    "    lca = bw.LCA(compression_storage_LCA[key]['fu'])\n",
    "    lca.lci()\n",
    "    for method in method_key:\n",
    "        lca.switch_method(method)\n",
    "        lca.lcia()\n",
    "        compression_storage_LCA[key]['result'].append((method[2].title(), lca.score, bw.methods.get(method).get('unit')))"
   ]
  },
  {
   "cell_type": "code",
   "execution_count": 18,
   "id": "4f98752e",
   "metadata": {},
   "outputs": [
    {
     "data": {
      "text/plain": [
       "defaultdict(dict,\n",
       "            {'compression_construction': {'fu': {'Compression Facility Construction' (unit, GLO, None): 1},\n",
       "              'result': [('Gwp100', 0.01902023826395408, 'kg CO2-Eq')]},\n",
       "             'pipeline_transport': {'fu': {'Pipeline Transport' (unit, GLO, None): 1},\n",
       "              'result': [('Gwp100', 1.2021703920517626, 'kg CO2-Eq')]},\n",
       "             'geological_storage': {'fu': {'Geological Storage' (unit, GLO, None): 1},\n",
       "              'result': [('Gwp100', 83.37796874388013, 'kg CO2-Eq')]},\n",
       "             'operation': {'fu': {'Operation' (unit, GLO, None): 1},\n",
       "              'result': [('Gwp100', 0.0, 'kg CO2-Eq')]},\n",
       "             'eol': {'fu': {'End Of Life' (unit, GLO, None): 1},\n",
       "              'result': [('Gwp100', -0.0459580176477684, 'kg CO2-Eq')]}})"
      ]
     },
     "execution_count": 18,
     "metadata": {},
     "output_type": "execute_result"
    }
   ],
   "source": [
    "compression_storage_LCA"
   ]
  },
  {
   "cell_type": "code",
   "execution_count": null,
   "id": "b2b7da6b",
   "metadata": {},
   "outputs": [],
   "source": []
  }
 ],
 "metadata": {
  "kernelspec": {
   "display_name": "Python 3",
   "language": "python",
   "name": "python3"
  },
  "language_info": {
   "codemirror_mode": {
    "name": "ipython",
    "version": 3
   },
   "file_extension": ".py",
   "mimetype": "text/x-python",
   "name": "python",
   "nbconvert_exporter": "python",
   "pygments_lexer": "ipython3",
   "version": "3.9.1"
  }
 },
 "nbformat": 4,
 "nbformat_minor": 5
}
