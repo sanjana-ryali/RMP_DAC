{
 "cells": [
  {
   "cell_type": "code",
   "execution_count": 1,
   "id": "8dfa50c1",
   "metadata": {},
   "outputs": [],
   "source": [
    "import numpy as np\n",
    "import pyprind\n",
    "import seaborn as sns\n",
    "import pandas as pd\n",
    "import os\n",
    "import pprint\n",
    "import copy\n",
    "import wurst as w\n",
    "import brightway2 as bw\n",
    "from brightway2 import *\n",
    "import bw2io as bi\n",
    "from matplotlib import pyplot as plt\n",
    "from pandas import DataFrame\n",
    "from openpyxl import load_workbook\n",
    "from wurst import *\n",
    "from wurst.searching import *\n",
    "import json\n",
    "from wurst.ecoinvent.electricity_markets import *\n",
    "from wurst.ecoinvent.filters import *\n",
    "\n",
    "from pprint import pformat\n",
    "import warnings\n",
    "from datetime import datetime\n",
    "\n",
    "from bw2io.strategies import (\n",
    "    normalize_units,    \n",
    "    remove_zero_amount_coproducts,\n",
    "    normalize_biosphere_categories,\n",
    "    normalize_biosphere_names,\n",
    "    strip_biosphere_exc_locations,\n",
    ")\n",
    "\n",
    "import collections"
   ]
  },
  {
   "cell_type": "code",
   "execution_count": 2,
   "id": "fead1476",
   "metadata": {},
   "outputs": [
    {
     "name": "stdout",
     "output_type": "stream",
     "text": [
      "Biosphere database already present!!! No setup is needed\n"
     ]
    }
   ],
   "source": [
    "projects.set_current(\"elec_mix_version3\")\n",
    "bw.bw2setup() "
   ]
  },
  {
   "cell_type": "code",
   "execution_count": 4,
   "id": "10523d81",
   "metadata": {
    "collapsed": true
   },
   "outputs": [
    {
     "name": "stdout",
     "output_type": "stream",
     "text": [
      "Extracting XML data from 18121 datasets\n",
      "Extracted 18121 datasets in 31.60 seconds\n",
      "Applying strategy: normalize_units\n",
      "Applying strategy: update_ecoinvent_locations\n",
      "Applying strategy: remove_zero_amount_coproducts\n",
      "Applying strategy: remove_zero_amount_inputs_with_no_activity\n",
      "Applying strategy: remove_unnamed_parameters\n",
      "Applying strategy: es2_assign_only_product_with_amount_as_reference_product\n",
      "Applying strategy: assign_single_product_as_activity\n",
      "Applying strategy: create_composite_code\n",
      "Applying strategy: drop_unspecified_subcategories\n",
      "Applying strategy: fix_ecoinvent_flows_pre35\n",
      "Applying strategy: drop_temporary_outdated_biosphere_flows\n",
      "Applying strategy: link_biosphere_by_flow_uuid\n",
      "Applying strategy: link_internal_technosphere_by_composite_code\n",
      "Applying strategy: delete_exchanges_missing_activity\n",
      "Applying strategy: delete_ghost_exchanges\n",
      "Applying strategy: remove_uncertainty_from_negative_loss_exchanges\n",
      "Applying strategy: fix_unreasonably_high_lognormal_uncertainties\n",
      "Applying strategy: set_lognormal_loc_value\n",
      "Applying strategy: convert_activity_parameters_to_list\n",
      "Applying strategy: add_cpc_classification_from_single_reference_product\n",
      "Applying strategy: delete_none_synonyms\n",
      "Applied 21 strategies in 4.95 seconds\n"
     ]
    },
    {
     "name": "stderr",
     "output_type": "stream",
     "text": [
      "Writing activities to SQLite3 database:\n"
     ]
    },
    {
     "name": "stdout",
     "output_type": "stream",
     "text": [
      "18121 datasets\n",
      "615644 exchanges\n",
      "0 unlinked exchanges\n",
      "  \n"
     ]
    },
    {
     "name": "stderr",
     "output_type": "stream",
     "text": [
      "0% [##############################] 100% | ETA: 00:00:00\n",
      "Total time elapsed: 00:00:27\n"
     ]
    },
    {
     "name": "stdout",
     "output_type": "stream",
     "text": [
      "Title: Writing activities to SQLite3 database:\n",
      "  Started: 07/17/2021 11:17:47\n",
      "  Finished: 07/17/2021 11:18:14\n",
      "  Total time elapsed: 00:00:27\n",
      "  CPU %: 2.40\n",
      "  Memory %: 79.53\n",
      "Created database: ecoinvent3.6_RMP\n"
     ]
    },
    {
     "data": {
      "text/plain": [
       "Brightway2 SQLiteBackend: ecoinvent3.6_RMP"
      ]
     },
     "execution_count": 4,
     "metadata": {},
     "output_type": "execute_result"
    }
   ],
   "source": [
    "ei36_path_test = \"/Users/sanjanaryali/rmp/ecoinvent/datasets\"\n",
    "ei_36 = SingleOutputEcospold2Importer(ei36_path_test, \"ecoinvent3.6_RMP\")\n",
    "ei_36.apply_strategies()\n",
    "ei_36.statistics()\n",
    "ei_36.write_database()"
   ]
  },
  {
   "cell_type": "code",
   "execution_count": 5,
   "id": "b46d73f7",
   "metadata": {},
   "outputs": [
    {
     "name": "stderr",
     "output_type": "stream",
     "text": [
      "/opt/miniconda3/envs/py39/lib/python3.9/site-packages/openpyxl/worksheet/_reader.py:312: UserWarning: Unknown extension is not supported and will be removed\n",
      "  warn(msg)\n",
      "/opt/miniconda3/envs/py39/lib/python3.9/site-packages/openpyxl/worksheet/_reader.py:312: UserWarning: Conditional Formatting extension is not supported and will be removed\n",
      "  warn(msg)\n"
     ]
    },
    {
     "name": "stdout",
     "output_type": "stream",
     "text": [
      "Extracted 1 worksheets in 0.08 seconds\n",
      "Applying strategy: csv_restore_tuples\n",
      "Applying strategy: csv_restore_booleans\n",
      "Applying strategy: csv_numerize\n",
      "Applying strategy: csv_drop_unknown\n",
      "Applying strategy: csv_add_missing_exchanges_section\n",
      "Applying strategy: normalize_units\n",
      "Applying strategy: normalize_biosphere_categories\n",
      "Applying strategy: normalize_biosphere_names\n",
      "Applying strategy: strip_biosphere_exc_locations\n",
      "Applying strategy: set_code_by_activity_hash\n",
      "Applying strategy: link_iterable_by_fields\n",
      "Applying strategy: assign_only_product_as_production\n",
      "Applying strategy: link_technosphere_by_activity_hash\n",
      "Applying strategy: drop_falsey_uncertainty_fields_but_keep_zeros\n",
      "Applying strategy: convert_uncertainty_types_to_integers\n",
      "Applying strategy: convert_activity_parameters_to_list\n",
      "Applied 16 strategies in 0.11 seconds\n",
      "Applying strategy: link_iterable_by_fields\n",
      "Applying strategy: link_iterable_by_fields\n",
      "Applying strategy: link_iterable_by_fields\n"
     ]
    },
    {
     "name": "stderr",
     "output_type": "stream",
     "text": [
      "Writing activities to SQLite3 database:\n",
      "0% [#] 100% | ETA: 00:00:00\n",
      "Total time elapsed: 00:00:00\n"
     ]
    },
    {
     "name": "stdout",
     "output_type": "stream",
     "text": [
      "Title: Writing activities to SQLite3 database:\n",
      "  Started: 07/17/2021 11:19:20\n",
      "  Finished: 07/17/2021 11:19:20\n",
      "  Total time elapsed: 00:00:00\n",
      "  CPU %: 2.50\n",
      "  Memory %: 85.31\n",
      "Created database: Wave\n"
     ]
    }
   ],
   "source": [
    "lci_wave_path = \"/Users/sanjanaryali/rmp/ecoinvent/data/lci_wave.xlsx\"\n",
    "sp = ExcelImporter(lci_wave_path)\n",
    "sp.apply_strategies()  \n",
    "sp.match_database(fields=[\"name\", \"unit\", \"location\"])\n",
    "sp.match_database('ecoinvent3.6_RMP', fields=[\"reference product\", \"name\", \"unit\", \"location\"])\n",
    "sp.match_database('ecoinvent3.6_RMP', fields=[\"name\", \"unit\", \"location\"])\n",
    "sp.write_database()"
   ]
  },
  {
   "cell_type": "code",
   "execution_count": 6,
   "id": "99983128",
   "metadata": {},
   "outputs": [
    {
     "name": "stdout",
     "output_type": "stream",
     "text": [
      "Extracted 1 worksheets in 16.08 seconds\n",
      "Applying strategy: csv_restore_tuples\n",
      "Applying strategy: csv_restore_booleans\n",
      "Applying strategy: csv_numerize\n",
      "Applying strategy: csv_drop_unknown\n",
      "Applying strategy: csv_add_missing_exchanges_section\n",
      "Applying strategy: normalize_units\n",
      "Applying strategy: normalize_biosphere_categories\n",
      "Applying strategy: normalize_biosphere_names\n",
      "Applying strategy: strip_biosphere_exc_locations\n",
      "Applying strategy: set_code_by_activity_hash\n",
      "Applying strategy: link_iterable_by_fields\n",
      "Applying strategy: assign_only_product_as_production\n",
      "Applying strategy: link_technosphere_by_activity_hash\n",
      "Applying strategy: drop_falsey_uncertainty_fields_but_keep_zeros\n",
      "Applying strategy: convert_uncertainty_types_to_integers\n",
      "Applying strategy: convert_activity_parameters_to_list\n",
      "Applied 16 strategies in 0.17 seconds\n",
      "Applying strategy: link_iterable_by_fields\n",
      "Applying strategy: link_iterable_by_fields\n",
      "Applying strategy: link_iterable_by_fields\n"
     ]
    },
    {
     "name": "stderr",
     "output_type": "stream",
     "text": [
      "Writing activities to SQLite3 database:\n",
      "0% [##############################] 100% | ETA: 00:00:00\n",
      "Total time elapsed: 00:00:00\n"
     ]
    },
    {
     "name": "stdout",
     "output_type": "stream",
     "text": [
      "Title: Writing activities to SQLite3 database:\n",
      "  Started: 07/17/2021 11:19:52\n",
      "  Finished: 07/17/2021 11:19:52\n",
      "  Total time elapsed: 00:00:00\n",
      "  CPU %: 2.50\n",
      "  Memory %: 85.59\n",
      "Created database: Carma CCS\n"
     ]
    }
   ],
   "source": [
    "lci_ccs_path = \"/Users/sanjanaryali/rmp/ecoinvent/data/lci_ccs.xlsx\"\n",
    "sw = ExcelImporter(lci_ccs_path)\n",
    "sw.apply_strategies()  \n",
    "sw.match_database(fields=[\"name\", \"unit\", \"location\"])\n",
    "sw.match_database('ecoinvent3.6_RMP', fields=[\"reference product\", \"name\", \"unit\", \"location\"])\n",
    "sw.match_database('ecoinvent3.6_RMP', fields=[\"name\", \"unit\", \"location\"])\n",
    "sw.write_database()"
   ]
  },
  {
   "cell_type": "code",
   "execution_count": 7,
   "id": "3fb20225",
   "metadata": {},
   "outputs": [
    {
     "data": {
      "text/plain": [
       "Databases dictionary with 4 object(s):\n",
       "\tCarma CCS\n",
       "\tWave\n",
       "\tbiosphere3\n",
       "\tecoinvent3.6_RMP"
      ]
     },
     "execution_count": 7,
     "metadata": {},
     "output_type": "execute_result"
    }
   ],
   "source": [
    "databases"
   ]
  },
  {
   "cell_type": "code",
   "execution_count": 8,
   "id": "82d30bff",
   "metadata": {},
   "outputs": [
    {
     "name": "stdout",
     "output_type": "stream",
     "text": [
      "Getting activity data\n"
     ]
    },
    {
     "name": "stderr",
     "output_type": "stream",
     "text": [
      "100%|██████████| 18268/18268 [00:00<00:00, 187756.49it/s]\n",
      "  1%|          | 4894/618548 [00:00<00:12, 48933.75it/s]"
     ]
    },
    {
     "name": "stdout",
     "output_type": "stream",
     "text": [
      "Adding exchange data to activities\n"
     ]
    },
    {
     "name": "stderr",
     "output_type": "stream",
     "text": [
      "100%|██████████| 618548/618548 [00:23<00:00, 26029.92it/s]\n"
     ]
    },
    {
     "name": "stdout",
     "output_type": "stream",
     "text": [
      "Filling out exchange data\n"
     ]
    },
    {
     "name": "stderr",
     "output_type": "stream",
     "text": [
      "100%|██████████| 18268/18268 [00:01<00:00, 10500.20it/s]\n"
     ]
    }
   ],
   "source": [
    "input_db = extract_brightway2_databases(['ecoinvent3.6_RMP', 'Wave', 'Carma CCS'])"
   ]
  },
  {
   "cell_type": "code",
   "execution_count": 9,
   "id": "4f7552fa",
   "metadata": {},
   "outputs": [],
   "source": [
    "carma_electricity_ds_name_dict = {\n",
    "    \"Electricity, at wood burning power plant 20 MW, truck 25km, post, pipeline 200km, storage 1000m/2025\": \"Biomass CCS\",\n",
    "    \"Electricity, at power plant/natural gas, NGCC, no CCS/2025/kWh\": \"Natural gas CC\",\n",
    "    \"Electricity, at power plant/natural gas, pre, pipeline 400km, storage 3000m/2025\": \"Natural gas CCS\",\n",
    "    \"Electricity, at BIGCC power plant 450MW, pre, pipeline 200km, storage 1000m/2025\": \"Biomass CCS\",\n",
    "    \"Electricity, at power plant/hard coal, PC, no CCS/2025\": \"Coal ST\",\n",
    "    \"Electricity, at power plant/hard coal, IGCC, no CCS/2025\": \"IGCC\",\n",
    "    \"Electricity, at wood burning power plant 20 MW, truck 25km, no CCS/2025\": \"Biomass ST\",\n",
    "    \"Electricity, at power plant/natural gas, pre, pipeline 200km, storage 1000m/2025\": \"Natural gas CCS\",\n",
    "    \"Electricity, at power plant/lignite, PC, no CCS/2025\": \"Coal ST\",\n",
    "    \"Electricity, at power plant/hard coal, pre, pipeline 200km, storage 1000m/2025\": \"Coal CCS\",\n",
    "    \"Electricity, from CC plant, 100% SNG, truck 25km, post, pipeline 200km, storage 1000m/2025\": \"Biomass CCS\",\n",
    "    \"Electricity, at wood burning power plant 20 MW, truck 25km, post, pipeline 400km, storage 3000m/2025\": \"Biomass CCS\",\n",
    "    \"Electricity, at power plant/hard coal, oxy, pipeline 400km, storage 3000m/2025\": \"Coal CCS\",\n",
    "    \"Electricity, at power plant/lignite, oxy, pipeline 200km, storage 1000m/2025\": \"Coal CCS\",\n",
    "    \"Electricity, at power plant/hard coal, post, pipeline 400km, storage 3000m/2025\": \"Coal CCS\",\n",
    "    \"Electricity, at power plant/lignite, pre, pipeline 200km, storage 1000m/2025\": \"Coal CCS\",\n",
    "    \"Electricity, at BIGCC power plant 450MW, pre, pipeline 400km, storage 3000m/2025\": \"Biomass CCS\",\n",
    "    \"Electricity, at power plant/natural gas, post, pipeline 400km, storage 1000m/2025\": \"Natural gas CCS\",\n",
    "    \"Electricity, at power plant/lignite, post, pipeline 400km, storage 3000m/2025\": \"Coal CCS\",\n",
    "    \"Electricity, at power plant/hard coal, post, pipeline 400km, storage 1000m/2025\": \"Coal CCS\",\n",
    "    \"Electricity, from CC plant, 100% SNG, truck 25km, post, pipeline 400km, storage 3000m/2025\": \"Biomass CCS\",\n",
    "    \"Electricity, at power plant/natural gas, ATR H2-CC, no CCS/2025\": \"Natural gas CCS\",\n",
    "    \"Electricity, at power plant/hard coal, pre, pipeline 400km, storage 3000m/2025\": \"Coal CCS\",\n",
    "    \"Electricity, at power plant/lignite, IGCC, no CCS/2025\": \"IGCC\",\n",
    "    \"Electricity, at power plant/hard coal, post, pipeline 200km, storage 1000m/2025\": \"Coal CCS\",\n",
    "    \"Electricity, at power plant/lignite, oxy, pipeline 400km, storage 3000m/2025\": \"Coal CCS\",\n",
    "    \"Electricity, at power plant/lignite, post, pipeline 200km, storage 1000m/2025\": \"Coal CCS\",\n",
    "    \"Electricity, at power plant/lignite, pre, pipeline 400km, storage 3000m/2025\": \"Coal CCS\",\n",
    "    \"Electricity, at power plant/natural gas, post, pipeline 200km, storage 1000m/2025\": \"Natural gas CCS\",\n",
    "    \"Electricity, at power plant/natural gas, post, pipeline 400km, storage 3000m/2025\": \"Natural gas CCS\",\n",
    "    \"Electricity, at BIGCC power plant 450MW, no CCS/2025\": \"Biomass ST\",\n",
    "    \"Electricity, from CC plant, 100% SNG, truck 25km, no CCS/2025\": \"Biomass ST\",\n",
    "    \"Electricity, at power plant/hard coal, oxy, pipeline 200km, storage 1000m/2025\": \"Coal CCS\",\n",
    "}"
   ]
  },
  {
   "cell_type": "code",
   "execution_count": 10,
   "id": "a98b0d22",
   "metadata": {},
   "outputs": [],
   "source": [
    "def fix_unset_technosphere_and_production_exchange_locations(\n",
    "    db, matching_fields=(\"name\", \"unit\")\n",
    "):\n",
    "    \"\"\"Fills in all missing location fields for technosphere and production exchanges.\n",
    "\n",
    "    For production exchanges the location is set to the location of the activity which the exchange is part of.\n",
    "    For technosphere exchanges, loactions are instead set to the location of another activity\n",
    "    matching the exchange. If there is not exactly one such activity, the location will not be changed.\n",
    "\n",
    "    Parameters\n",
    "    ----------\n",
    "    db\n",
    "        Database to fix locations for. Expected to be in wurst format.\n",
    "    matching_fields: iterable\n",
    "        Names of the fields that technosphere exchanges and activities in the database are matched on.\n",
    "    \"\"\"\n",
    "    for ds in db:\n",
    "        for exc in ds[\"exchanges\"]:\n",
    "            if exc[\"type\"] == \"production\" and exc.get(\"location\") is None:\n",
    "                exc[\"location\"] = ds[\"location\"]\n",
    "            elif exc[\"type\"] == \"technosphere\" and exc.get(\"location\") is None:\n",
    "                locs = _find_location_given_lookup_dict(\n",
    "                    db, {k: exc.get(k) for k in matching_fields}\n",
    "                )\n",
    "                if len(locs) == 1:\n",
    "                    exc[\"location\"] = locs[0]\n",
    "                else:\n",
    "                    print(\n",
    "                        \"No unique location found for exchange:\\n{}\\nFound: {}\".format(\n",
    "                            pprint.pformat(exc), locs\n",
    "                        )\n",
    "                    )"
   ]
  },
  {
   "cell_type": "code",
   "execution_count": 11,
   "id": "b8070d6c",
   "metadata": {},
   "outputs": [],
   "source": [
    "def _find_location_given_lookup_dict(db, lookup_dict):\n",
    "    return [\n",
    "        x[\"location\"]\n",
    "        for x in get_many(db, *[equals(k, v) for k, v in lookup_dict.items()])\n",
    "    ]\n"
   ]
  },
  {
   "cell_type": "code",
   "execution_count": 12,
   "id": "02c724cf",
   "metadata": {},
   "outputs": [],
   "source": [
    "def set_global_location_for_additional_datasets(db, ei_name):\n",
    "    \"\"\"Set the location of all added datasets to the global location (``GLO``).\n",
    "\n",
    "    For this function, we assume that all datasets, whose database code is not ``ei_name``, are externally added.\n",
    "    All added datasets and all exchanges of the same name will have their location changed to ``GLO`` .\n",
    "\n",
    "    This function is needed because the wurst function relink_technosphere exchanges needs global datasets if it cannot find a regional one.\n",
    "\n",
    "\n",
    "    Parameters\n",
    "    ----------\n",
    "    db\n",
    "        Database to change locations on. Expected to be in wurst format.\n",
    "    ei_name : str\n",
    "        Name of the ecoinvent database. Activities from this database will not have their locations changed.\n",
    "    \"\"\"\n",
    "    non_ecoinvent_datasets = [x[\"name\"] for x in db if x[\"database\"] != ei_name]\n",
    "    ecoinvent_datasets = [x[\"name\"] for x in db if x[\"database\"] == ei_name]\n",
    "    print(\n",
    "        \"Found {} ecoinvent datasets and {} non-ecoinvent datasets.\".format(\n",
    "            len(ecoinvent_datasets), len(non_ecoinvent_datasets)\n",
    "        )\n",
    "    )\n",
    "\n",
    "    for ds in [x for x in db if x[\"database\"] != ei_name]:\n",
    "        ds[\"location\"] = \"GLO\"\n",
    "        for exc in [x for x in ds[\"exchanges\"] if x[\"type\"] != \"biosphere\"]:\n",
    "            if exc[\"name\"] in non_ecoinvent_datasets:\n",
    "                if exc[\"name\"] in ecoinvent_datasets and exc[\"location\"] != \"GLO\":\n",
    "                    print(exc[\"name\"], exc[\"location\"])\n",
    "                    print(\"here\")\n",
    "                else:\n",
    "                    exc[\"location\"] = \"GLO\"\n",
    "                    # print(\"Set location to 'GLO' for exchange: {}\".format(exc['name']))"
   ]
  },
  {
   "cell_type": "code",
   "execution_count": 13,
   "id": "2daadcf7",
   "metadata": {},
   "outputs": [],
   "source": [
    "exists = lambda x: {k: v for k, v in x.items() if v is not None}\n",
    "def remove_nones(db):\n",
    "    \"\"\"Removes all fields of all exchanges whose value is ``None``.\n",
    "\n",
    "    Parameters\n",
    "    ----------\n",
    "    db\n",
    "        Database to remove empty exchange fields for. Expected to be in wurst format.\n",
    "    \"\"\"\n",
    "    for ds in db:\n",
    "        ds[\"exchanges\"] = [exists(exc) for exc in ds[\"exchanges\"]]\n",
    "        \n"
   ]
  },
  {
   "cell_type": "code",
   "execution_count": 14,
   "id": "123f94cd",
   "metadata": {},
   "outputs": [],
   "source": [
    "def add_new_locations_to_added_datasets(db):\n",
    "    \"\"\"Creates copies of added electricity activities for IEA locations.\n",
    "\n",
    "    For each electricity activity, only one localised activity will be created.\n",
    "\n",
    "\n",
    "    Parameters\n",
    "    ----------\n",
    "    db\n",
    "        Database to add localised activities to. Expected to be in wurst format.\n",
    "\n",
    "\n",
    "    See Also\n",
    "    --------\n",
    "    regionalize_added_datasets : Regionalize exchanges added using this function.\n",
    "    \"\"\"\n",
    "    # We create a new version of all added electricity generation datasets for each IEA region.\n",
    "    # We allow the upstream production to remain global, as we are mostly interested in regionalizing\n",
    "    # to take advantage of the regionalized IEA data.\n",
    "\n",
    "    # step 1: make copies of all datasets for new locations\n",
    "    # best would be to regionalize datasets for every location with an electricity market like this:\n",
    "    # locations = {x['location'] for x in get_many(db, *electricity_market_filter_high_voltage)}\n",
    "    # but this takes quite a long time. For now, we just use 1 location that is unique in each IEA region.\n",
    "    possibles = {}\n",
    "#     for reg in REGIONS_IEA[:-1]:\n",
    "#         print(reg)\n",
    "#         temp = [x for x in geomatcher.intersects((\"IEA\", reg)) if type(x) != tuple]\n",
    "#         possibles[reg] = [x for x in temp if len(ecoinvent_to_iea_locations(x)) == 1]\n",
    "#         if not len(possibles[reg]):\n",
    "#             print(reg, \" has no good candidate\")\n",
    "    locations = [v[0] for v in possibles.values()]\n",
    "    print(locations)\n",
    "\n",
    "    # This code would modify every new dataset, but this would be quite large:\n",
    "    # for ds in  pyprind.prog_bar([ds for ds in db if ds['database'] in ['CSP','Carma CCS']]):\n",
    "    # so we consider only the final electricity production dataset and not the upstream impacts:\n",
    "    for ds in pyprind.prog_bar(\n",
    "        [ds for ds in db if ds[\"name\"] in carma_electricity_ds_name_dict.keys()]\n",
    "    ):\n",
    "        for location in locations:\n",
    "            new_ds = copy_to_new_location(ds, location)\n",
    "            db.append(new_ds)\n",
    "\n",
    "\n"
   ]
  },
  {
   "cell_type": "code",
   "execution_count": 15,
   "id": "b5340a32",
   "metadata": {},
   "outputs": [],
   "source": [
    "def regionalize_added_datasets(db):\n",
    "    \"\"\"Links exchanges of added electricity activities to regionalized activities.\n",
    "\n",
    "    Parameters\n",
    "    ----------\n",
    "    db\n",
    "        Database to regionalize activities for. Expected to be in wurst format.\n",
    "    \"\"\"\n",
    "    # step 2: relink all processes in each dataset\n",
    "    # This code would modify every new dataset, but this would be quite large:\n",
    "    # for ds in  pyprind.prog_bar([ds for ds in db if ds['database'] in ['CSP','Carma CCS']]):\n",
    "    # so we consider only the final electricity production dataset and not the upstream impacts:\n",
    "    for ds in [ds for ds in db if ds[\"name\"] in carma_electricity_ds_name_dict.keys()]:\n",
    "        ds = relink_technosphere_exchanges(\n",
    "            ds,\n",
    "            db,\n",
    "            exclusive=True,\n",
    "            drop_invalid=False,\n",
    "            biggest_first=False,\n",
    "            contained=False,\n",
    "        )\n"
   ]
  },
  {
   "cell_type": "code",
   "execution_count": 16,
   "id": "1534382f",
   "metadata": {},
   "outputs": [
    {
     "name": "stdout",
     "output_type": "stream",
     "text": [
      "Found 18121 ecoinvent datasets and 147 non-ecoinvent datasets.\n",
      "[]\n"
     ]
    },
    {
     "name": "stderr",
     "output_type": "stream",
     "text": [
      "0% [##############################] 100% | ETA: 00:00:00\n",
      "Total time elapsed: 00:00:00\n"
     ]
    }
   ],
   "source": [
    "## Set the location for activities that does not have locations\n",
    "w.transformations.default_global_location(input_db)\n",
    "## Set the location (as GLO) for eschanges (technosphere and production) that does not have locations\n",
    "fix_unset_technosphere_and_production_exchange_locations(input_db)\n",
    "\n",
    "set_global_location_for_additional_datasets(input_db, 'ecoinvent3.6_RMP')\n",
    "remove_nones(input_db)\n",
    "\n",
    "add_new_locations_to_added_datasets(input_db)\n",
    "\n",
    "regionalize_added_datasets(input_db)"
   ]
  },
  {
   "cell_type": "code",
   "execution_count": 17,
   "id": "dc5249b2",
   "metadata": {},
   "outputs": [
    {
     "name": "stdout",
     "output_type": "stream",
     "text": [
      "18268 datasets\n",
      "618548 exchanges\n",
      "0 unlinked exchanges\n",
      "  \n"
     ]
    },
    {
     "name": "stderr",
     "output_type": "stream",
     "text": [
      "Writing activities to SQLite3 database:\n",
      "0% [##############################] 100% | ETA: 00:00:00\n",
      "Total time elapsed: 00:00:27\n"
     ]
    },
    {
     "name": "stdout",
     "output_type": "stream",
     "text": [
      "Title: Writing activities to SQLite3 database:\n",
      "  Started: 07/17/2021 11:21:33\n",
      "  Finished: 07/17/2021 11:22:01\n",
      "  Total time elapsed: 00:00:27\n",
      "  CPU %: 2.40\n",
      "  Memory %: 189.16\n",
      "Created database: extended_ecoinvent\n"
     ]
    }
   ],
   "source": [
    "db = input_db\n",
    "write_brightway2_database(db, 'extended_ecoinvent')"
   ]
  },
  {
   "cell_type": "code",
   "execution_count": 18,
   "id": "09b9ab98",
   "metadata": {},
   "outputs": [
    {
     "data": {
      "text/plain": [
       "Databases dictionary with 5 object(s):\n",
       "\tCarma CCS\n",
       "\tWave\n",
       "\tbiosphere3\n",
       "\tecoinvent3.6_RMP\n",
       "\textended_ecoinvent"
      ]
     },
     "execution_count": 18,
     "metadata": {},
     "output_type": "execute_result"
    }
   ],
   "source": [
    "databases"
   ]
  },
  {
   "cell_type": "code",
   "execution_count": 19,
   "id": "5fbb5705",
   "metadata": {},
   "outputs": [],
   "source": [
    "df = pd.read_excel (\"/Users/sanjanaryali/rmp/ecoinvent/data/elec_mix.xlsx\") "
   ]
  },
  {
   "cell_type": "code",
   "execution_count": 20,
   "id": "ab469839",
   "metadata": {},
   "outputs": [],
   "source": [
    "ee = bw.Database('extended_ecoinvent')"
   ]
  },
  {
   "cell_type": "code",
   "execution_count": 21,
   "id": "39a318e6",
   "metadata": {},
   "outputs": [],
   "source": [
    "%run -i 'ee_activities_US.py'"
   ]
  },
  {
   "cell_type": "code",
   "execution_count": 22,
   "id": "9fd46b3a",
   "metadata": {},
   "outputs": [],
   "source": [
    "us_2020.save()\n",
    "us_2030.save()\n",
    "us_2040.save()\n",
    "us_2050.save()"
   ]
  },
  {
   "cell_type": "code",
   "execution_count": 23,
   "id": "4ed79255",
   "metadata": {},
   "outputs": [],
   "source": [
    "us_2020_fu = {us_2020:1}\n",
    "us_2020_result = []\n",
    "\n",
    "us_2030_fu = {us_2030:1}\n",
    "us_2030_result = []\n",
    "\n",
    "us_2040_fu = {us_2040:1}\n",
    "us_2040_result = []\n",
    "\n",
    "us_2050_fu = {us_2050:1}\n",
    "us_2050_result = []"
   ]
  },
  {
   "cell_type": "code",
   "execution_count": 24,
   "id": "33608f20",
   "metadata": {},
   "outputs": [],
   "source": [
    "%run -i 'ee_activities_BRAZIL.py'"
   ]
  },
  {
   "cell_type": "code",
   "execution_count": 25,
   "id": "b7d45d84",
   "metadata": {},
   "outputs": [],
   "source": [
    "brazil_2020.save()\n",
    "brazil_2030.save()\n",
    "brazil_2040.save()\n",
    "brazil_2050.save()"
   ]
  },
  {
   "cell_type": "code",
   "execution_count": 26,
   "id": "d76c88fc",
   "metadata": {},
   "outputs": [],
   "source": [
    "brazil_2020_fu = {brazil_2020:1}\n",
    "brazil_2020_result = []\n",
    "\n",
    "brazil_2030_fu = {brazil_2030:1}\n",
    "brazil_2030_result = []\n",
    "\n",
    "brazil_2040_fu = {brazil_2040:1}\n",
    "brazil_2040_result = []\n",
    "\n",
    "brazil_2050_fu = {brazil_2050:1}\n",
    "brazil_2050_result = []"
   ]
  },
  {
   "cell_type": "code",
   "execution_count": 27,
   "id": "da0358b9",
   "metadata": {},
   "outputs": [],
   "source": [
    "%run -i 'ee_activities_RUSSIA.py'"
   ]
  },
  {
   "cell_type": "code",
   "execution_count": 28,
   "id": "e0c59bdb",
   "metadata": {},
   "outputs": [],
   "source": [
    "russia_2020.save()\n",
    "russia_2030.save()\n",
    "russia_2040.save()\n",
    "russia_2050.save()"
   ]
  },
  {
   "cell_type": "code",
   "execution_count": 29,
   "id": "00b59612",
   "metadata": {},
   "outputs": [],
   "source": [
    "russia_2020_fu = {russia_2020:1}\n",
    "russia_2020_result = []\n",
    "\n",
    "russia_2030_fu = {russia_2030:1}\n",
    "russia_2030_result = []\n",
    "\n",
    "russia_2040_fu = {russia_2040:1}\n",
    "russia_2040_result = []\n",
    "\n",
    "russia_2050_fu = {russia_2050:1}\n",
    "russia_2050_result = []"
   ]
  },
  {
   "cell_type": "code",
   "execution_count": 30,
   "id": "24dd508d",
   "metadata": {},
   "outputs": [],
   "source": [
    "%run -i 'ee_activities_INDIA.py'"
   ]
  },
  {
   "cell_type": "code",
   "execution_count": 31,
   "id": "b7fd7104",
   "metadata": {},
   "outputs": [],
   "source": [
    "india_2020.save()\n",
    "india_2030.save()\n",
    "india_2040.save()\n",
    "india_2050.save()"
   ]
  },
  {
   "cell_type": "code",
   "execution_count": 32,
   "id": "2bd479b1",
   "metadata": {},
   "outputs": [],
   "source": [
    "india_2020_fu = {india_2020:1}\n",
    "india_2020_result = []\n",
    "\n",
    "india_2030_fu = {india_2030:1}\n",
    "india_2030_result = []\n",
    "\n",
    "india_2040_fu = {india_2040:1}\n",
    "india_2040_result = []\n",
    "\n",
    "india_2050_fu = {india_2050:1}\n",
    "india_2050_result = []"
   ]
  },
  {
   "cell_type": "code",
   "execution_count": 33,
   "id": "07bc195a",
   "metadata": {},
   "outputs": [],
   "source": [
    "%run -i 'ee_activities_EUROPE.py'"
   ]
  },
  {
   "cell_type": "code",
   "execution_count": 34,
   "id": "b55fe70e",
   "metadata": {},
   "outputs": [],
   "source": [
    "europe_2020.save()\n",
    "europe_2030.save()\n",
    "europe_2040.save()\n",
    "europe_2050.save()"
   ]
  },
  {
   "cell_type": "code",
   "execution_count": 35,
   "id": "8b7751e2",
   "metadata": {},
   "outputs": [],
   "source": [
    "europe_2020_fu = {europe_2020:1}\n",
    "europe_2020_result = []\n",
    "\n",
    "europe_2030_fu = {europe_2030:1}\n",
    "europe_2030_result = []\n",
    "\n",
    "europe_2040_fu = {europe_2040:1}\n",
    "europe_2040_result = []\n",
    "\n",
    "europe_2050_fu = {europe_2050:1}\n",
    "europe_2050_result = []"
   ]
  },
  {
   "cell_type": "code",
   "execution_count": 36,
   "id": "d0354b7e",
   "metadata": {},
   "outputs": [],
   "source": [
    "%run -i 'ee_activities_CHINA.py'"
   ]
  },
  {
   "cell_type": "code",
   "execution_count": 37,
   "id": "1ff8977f",
   "metadata": {},
   "outputs": [],
   "source": [
    "china_2020.save()\n",
    "china_2030.save()\n",
    "china_2040.save()\n",
    "china_2050.save()"
   ]
  },
  {
   "cell_type": "code",
   "execution_count": 38,
   "id": "e8abf2c4",
   "metadata": {},
   "outputs": [],
   "source": [
    "china_2020_fu = {china_2020:1}\n",
    "china_2020_result = []\n",
    "\n",
    "china_2030_fu = {china_2030:1}\n",
    "china_2030_result = []\n",
    "\n",
    "china_2040_fu = {china_2040:1}\n",
    "china_2040_result = []\n",
    "\n",
    "china_2050_fu = {china_2050:1}\n",
    "china_2050_result = []"
   ]
  },
  {
   "cell_type": "code",
   "execution_count": 39,
   "id": "e0bb3e18",
   "metadata": {},
   "outputs": [],
   "source": [
    "elec_cal_dict = collections.defaultdict(dict)\n",
    "\n",
    "elec_cal_dict['us_2020'] = {'fu' : us_2020_fu, 'result': us_2020_result}\n",
    "elec_cal_dict['us_2030'] = {'fu' : us_2030_fu, 'result': us_2030_result}\n",
    "elec_cal_dict['us_2040'] = {'fu' : us_2040_fu, 'result': us_2040_result}\n",
    "elec_cal_dict['us_2050'] = {'fu' : us_2050_fu, 'result': us_2050_result}\n",
    "\n",
    "elec_cal_dict['brazil_2020'] = {'fu' : brazil_2020_fu, 'result': brazil_2020_result}\n",
    "elec_cal_dict['brazil_2030'] = {'fu' : brazil_2030_fu, 'result': brazil_2030_result}\n",
    "elec_cal_dict['brazil_2040'] = {'fu' : brazil_2040_fu, 'result': brazil_2040_result}\n",
    "elec_cal_dict['brazil_2050'] = {'fu' : brazil_2050_fu, 'result': brazil_2050_result}\n",
    "\n",
    "elec_cal_dict['russia_2020'] = {'fu' : russia_2020_fu, 'result': russia_2020_result}\n",
    "elec_cal_dict['russia_2030'] = {'fu' : russia_2030_fu, 'result': russia_2030_result}\n",
    "elec_cal_dict['russia_2040'] = {'fu' : russia_2040_fu, 'result': russia_2040_result}\n",
    "elec_cal_dict['russia_2050'] = {'fu' : russia_2050_fu, 'result': russia_2050_result}\n",
    "\n",
    "elec_cal_dict['india_2020'] = {'fu' : india_2020_fu, 'result': india_2020_result}\n",
    "elec_cal_dict['india_2030'] = {'fu' : india_2030_fu, 'result': india_2030_result}\n",
    "elec_cal_dict['india_2040'] = {'fu' : india_2040_fu, 'result': india_2040_result}\n",
    "elec_cal_dict['india_2050'] = {'fu' : india_2050_fu, 'result': india_2050_result}\n",
    "\n",
    "elec_cal_dict['europe_2020'] = {'fu' : europe_2020_fu, 'result': europe_2020_result}\n",
    "elec_cal_dict['europe_2030'] = {'fu' : europe_2030_fu, 'result': europe_2030_result}\n",
    "elec_cal_dict['europe_2040'] = {'fu' : europe_2040_fu, 'result': europe_2040_result}\n",
    "elec_cal_dict['europe_2050'] = {'fu' : europe_2050_fu, 'result': europe_2050_result}\n",
    "\n",
    "elec_cal_dict['china_2020'] = {'fu' : china_2020_fu, 'result': china_2020_result}\n",
    "elec_cal_dict['china_2030'] = {'fu' : china_2030_fu, 'result': china_2030_result}\n",
    "elec_cal_dict['china_2040'] = {'fu' : china_2040_fu, 'result': china_2040_result}\n",
    "elec_cal_dict['china_2050'] = {'fu' : china_2050_fu, 'result': china_2050_result}"
   ]
  },
  {
   "cell_type": "code",
   "execution_count": 40,
   "id": "f6fec9e1",
   "metadata": {},
   "outputs": [],
   "source": [
    "method_key = [m for m in bw.methods if 'ReCiPe Midpoint (H) (obsolete)' in str(m) and 'climate change' in str(m)][0],"
   ]
  },
  {
   "cell_type": "code",
   "execution_count": 44,
   "id": "b89d14a1",
   "metadata": {},
   "outputs": [
    {
     "name": "stdout",
     "output_type": "stream",
     "text": [
      "us_2020: 155.2853369870725\n",
      "us_2030: 58.52262637379246\n",
      "us_2040: 26.92015831263852\n",
      "us_2050: 29.115147249476536\n",
      "brazil_2020: 37.87888165022306\n",
      "brazil_2030: 8.445695778693098\n",
      "brazil_2040: 5.496273339074926\n",
      "brazil_2050: 13.389939226718301\n",
      "russia_2020: 98.66797502271358\n",
      "russia_2030: 69.30949514499703\n",
      "russia_2040: 42.485576645351664\n",
      "russia_2050: 26.498783469297347\n",
      "india_2020: 260.011664540465\n",
      "india_2030: 82.2358608030408\n",
      "india_2040: 25.015658284058617\n",
      "india_2050: 26.780109117135833\n",
      "europe_2020: 89.69118312125363\n",
      "europe_2030: 37.8701641254413\n",
      "europe_2040: 22.783902775006872\n",
      "europe_2050: 30.810532618895316\n",
      "china_2020: 234.08232342834455\n",
      "china_2030: 116.02755869594505\n",
      "china_2040: 17.980872343002247\n",
      "china_2050: 19.91040852584434\n"
     ]
    }
   ],
   "source": [
    "for key in elec_cal_dict.keys():\n",
    "    lca = bw.LCA(elec_cal_dict[key]['fu'])\n",
    "    lca.lci()\n",
    "    for method in method_key:\n",
    "        lca.switch_method(method)\n",
    "        lca.lcia()\n",
    "        print(key + \": \" + str(lca.score))\n",
    "        elec_cal_dict[key]['result'].append((method[2].title(), lca.score, bw.methods.get(method).get('unit')))"
   ]
  },
  {
   "cell_type": "code",
   "execution_count": null,
   "id": "b3bd1ced",
   "metadata": {},
   "outputs": [],
   "source": []
  },
  {
   "cell_type": "code",
   "execution_count": null,
   "id": "c5c6f445",
   "metadata": {},
   "outputs": [],
   "source": []
  }
 ],
 "metadata": {
  "kernelspec": {
   "display_name": "py39",
   "language": "python",
   "name": "py39"
  },
  "language_info": {
   "codemirror_mode": {
    "name": "ipython",
    "version": 3
   },
   "file_extension": ".py",
   "mimetype": "text/x-python",
   "name": "python",
   "nbconvert_exporter": "python",
   "pygments_lexer": "ipython3",
   "version": "3.9.4"
  }
 },
 "nbformat": 4,
 "nbformat_minor": 5
}
