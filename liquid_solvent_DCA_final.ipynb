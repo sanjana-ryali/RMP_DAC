{
 "cells": [
  {
   "cell_type": "code",
   "execution_count": 1,
   "id": "9be6ae5b",
   "metadata": {},
   "outputs": [],
   "source": [
    "import numpy as np\n",
    "import pyprind\n",
    "import seaborn as sns\n",
    "import pandas as pd\n",
    "import os\n",
    "import pprint\n",
    "import copy\n",
    "import wurst as w\n",
    "import brightway2 as bw\n",
    "from brightway2 import *\n",
    "from matplotlib import pyplot as plt\n",
    "from pandas import DataFrame\n",
    "from openpyxl import load_workbook\n",
    "import collections"
   ]
  },
  {
   "cell_type": "code",
   "execution_count": 2,
   "id": "9e0f3c3a",
   "metadata": {},
   "outputs": [
    {
     "data": {
      "text/plain": [
       "[Project: default, Project: RMP_DAC]"
      ]
     },
     "execution_count": 2,
     "metadata": {},
     "output_type": "execute_result"
    }
   ],
   "source": [
    "list(bw.projects)"
   ]
  },
  {
   "cell_type": "code",
   "execution_count": 3,
   "id": "411a6914",
   "metadata": {},
   "outputs": [
    {
     "data": {
      "text/plain": [
       "[('RMP_DAC', 2, 1.253653631), ('default', 0, 8.21e-05)]"
      ]
     },
     "execution_count": 3,
     "metadata": {},
     "output_type": "execute_result"
    }
   ],
   "source": [
    "bw.projects.report()"
   ]
  },
  {
   "cell_type": "code",
   "execution_count": 4,
   "id": "dccc9eb2",
   "metadata": {},
   "outputs": [
    {
     "name": "stdout",
     "output_type": "stream",
     "text": [
      "Biosphere database already present!!! No setup is needed\n"
     ]
    }
   ],
   "source": [
    "bw.projects.set_current(\"RMP_DAC\") #Creating/accessing the project\n",
    "bw.bw2setup()"
   ]
  },
  {
   "cell_type": "code",
   "execution_count": 5,
   "id": "c0bbff1b",
   "metadata": {},
   "outputs": [
    {
     "name": "stdout",
     "output_type": "stream",
     "text": [
      "Vacuuming database \n"
     ]
    }
   ],
   "source": [
    "del databases['ecoinvent3.6_RMP']"
   ]
  },
  {
   "cell_type": "code",
   "execution_count": 6,
   "id": "ea65d490",
   "metadata": {},
   "outputs": [
    {
     "data": {
      "text/plain": [
       "Databases dictionary with 1 object(s):\n",
       "\tbiosphere3"
      ]
     },
     "execution_count": 6,
     "metadata": {},
     "output_type": "execute_result"
    }
   ],
   "source": [
    "databases"
   ]
  },
  {
   "cell_type": "code",
   "execution_count": 7,
   "id": "e66569b8",
   "metadata": {},
   "outputs": [
    {
     "name": "stdout",
     "output_type": "stream",
     "text": [
      "Extracting XML data from 18121 datasets\n",
      "Extracted 18121 datasets in 262.54 seconds\n",
      "Applying strategy: normalize_units\n",
      "Applying strategy: update_ecoinvent_locations\n",
      "Applying strategy: remove_zero_amount_coproducts\n",
      "Applying strategy: remove_zero_amount_inputs_with_no_activity\n",
      "Applying strategy: remove_unnamed_parameters\n",
      "Applying strategy: es2_assign_only_product_with_amount_as_reference_product\n",
      "Applying strategy: assign_single_product_as_activity\n",
      "Applying strategy: create_composite_code\n",
      "Applying strategy: drop_unspecified_subcategories\n",
      "Applying strategy: fix_ecoinvent_flows_pre35\n",
      "Applying strategy: drop_temporary_outdated_biosphere_flows\n",
      "Applying strategy: link_biosphere_by_flow_uuid\n",
      "Applying strategy: link_internal_technosphere_by_composite_code\n",
      "Applying strategy: delete_exchanges_missing_activity\n",
      "Applying strategy: delete_ghost_exchanges\n",
      "Applying strategy: remove_uncertainty_from_negative_loss_exchanges\n",
      "Applying strategy: fix_unreasonably_high_lognormal_uncertainties\n",
      "Applying strategy: set_lognormal_loc_value\n",
      "Applying strategy: convert_activity_parameters_to_list\n",
      "Applying strategy: add_cpc_classification_from_single_reference_product\n",
      "Applying strategy: delete_none_synonyms\n",
      "Applied 21 strategies in 11.58 seconds\n",
      "18121 datasets\n",
      "615644 exchanges\n",
      "0 unlinked exchanges\n",
      "  \n"
     ]
    },
    {
     "name": "stderr",
     "output_type": "stream",
     "text": [
      "Writing activities to SQLite3 database:\n",
      "0% [##############################] 100% | ETA: 00:00:00\n",
      "Total time elapsed: 00:01:46\n"
     ]
    },
    {
     "name": "stdout",
     "output_type": "stream",
     "text": [
      "Title: Writing activities to SQLite3 database:\n",
      "  Started: 07/10/2021 11:05:38\n",
      "  Finished: 07/10/2021 11:07:24\n",
      "  Total time elapsed: 00:01:46\n",
      "  CPU %: 79.10\n",
      "  Memory %: 36.70\n",
      "Created database: ecoinvent3.6_RMP\n"
     ]
    },
    {
     "data": {
      "text/plain": [
       "Brightway2 SQLiteBackend: ecoinvent3.6_RMP"
      ]
     },
     "execution_count": 7,
     "metadata": {},
     "output_type": "execute_result"
    }
   ],
   "source": [
    "ei36_path_test = \"/Users/sanjanaryali/Desktop/opt/ecoinvent/datasets\"\n",
    "ei_36 = SingleOutputEcospold2Importer(ei36_path_test, \"ecoinvent3.6_RMP\")\n",
    "ei_36.apply_strategies()\n",
    "ei_36.statistics()\n",
    "ei_36.write_database()"
   ]
  },
  {
   "cell_type": "code",
   "execution_count": 8,
   "id": "ea1a6956",
   "metadata": {},
   "outputs": [],
   "source": [
    "database_name = 'ecoinvent3.6_RMP'\n",
    "ei_cf_36_db = bw.Database(database_name)"
   ]
  },
  {
   "cell_type": "code",
   "execution_count": 9,
   "id": "1babd146",
   "metadata": {},
   "outputs": [],
   "source": [
    "# AIR CONTACTOR\n",
    "\n",
    "ac_construction = ei_cf_36_db.new_activity(code = 'ac_construction', name = \"Air Contactor Construction\", unit = \"unit\")\n",
    "\n",
    "Concrete = [act for act in ei_cf_36_db if 'market for concrete, normal' == act['name'] and 'RoW' == act['location']][0]\n",
    "Low_alloyed_steel = [act for act in ei_cf_36_db if 'market for steel, low-alloyed' == act['name'] and 'GLO' == act['location']][0]\n",
    "Stainless_steel = [act for act in ei_cf_36_db if 'steel production, chromium steel 18/8, hot rolled' == act['name'] and 'RoW' == act['location']][0]\n",
    "Polyeruthane = [act for act in ei_cf_36_db if 'market for polyurethane, flexible foam' == act['name'] and 'RoW' == act['location']][0]\n",
    "Glass_fiber = [act for act in ei_cf_36_db if 'market for glass fibre' == act['name'] and 'GLO' == act['location']][0]\n",
    "Polypropylene = [act for act in ei_cf_36_db if 'market for polypropylene, granulate' == act['name'] and 'GLO' == act['location']][0]\n",
    "Polyvinyl = [act for act in ei_cf_36_db if 'market for polyvinylchloride, bulk polymerised' == act['name'] and 'GLO' == act['location']][0]\n",
    "\n",
    "ac_construction.new_exchange(input = Concrete.key, amount = 0.0067, unit = \"cubic meter\",type = 'technosphere').save()\n",
    "ac_construction.new_exchange(input = Low_alloyed_steel.key, amount = 0.27, unit = \"kilogram\",type = 'technosphere').save()\n",
    "ac_construction.new_exchange(input = Stainless_steel.key, amount = 0.0017, unit = \"kilogram\",type = 'technosphere').save()\n",
    "ac_construction.new_exchange(input = Polyeruthane.key, amount = 0.0005, unit = \"kilogram\",type = 'technosphere').save()\n",
    "ac_construction.new_exchange(input = Glass_fiber.key, amount = 0.0038, unit = \"kilogram\",type = 'technosphere').save()\n",
    "ac_construction.new_exchange(input = Polypropylene.key, amount = 0.0008, unit = \"kilogram\",type = 'technosphere').save()\n",
    "ac_construction.new_exchange(input = Polyvinyl.key, amount = 0.76, unit = \"kilogram\",type = 'technosphere').save()"
   ]
  },
  {
   "cell_type": "code",
   "execution_count": 10,
   "id": "4344de8e",
   "metadata": {},
   "outputs": [],
   "source": [
    "# PELLET REACTOR\n",
    "\n",
    "pellet_reactor_construction = ei_cf_36_db.new_activity(code = 'pellet_reactor_construction', name = \"Pellet Reactor Construction\", unit = \"unit\")\n",
    "\n",
    "Concrete_pr = [act for act in ei_cf_36_db if 'market for concrete, normal' == act['name'] and 'RoW' == act['location']][0]\n",
    "Stainless_steel_pr = [act for act in ei_cf_36_db if 'steel production, chromium steel 18/8, hot rolled' == act['name'] and 'RoW' == act['location']][0]\n",
    "\n",
    "pellet_reactor_construction.new_exchange(input = Concrete_pr.key, amount = 0.0033, unit = \"cubic meter\",type = 'technosphere').save()\n",
    "pellet_reactor_construction.new_exchange(input = Stainless_steel_pr.key, amount = 0.023, unit = \"kilogram\",type = 'technosphere').save()"
   ]
  },
  {
   "cell_type": "code",
   "execution_count": 11,
   "id": "a2ae9548",
   "metadata": {},
   "outputs": [],
   "source": [
    "# CALCINER\n",
    "\n",
    "calciner_construction = ei_cf_36_db.new_activity(code = 'calciner_construction', name = \"Calciner Construction\", unit = \"unit\")\n",
    "\n",
    "Concrete_c = [act for act in ei_cf_36_db if 'market for concrete, normal' == act['name'] and 'RoW' == act['location']][0]\n",
    "Low_alloyed_steel_c = [act for act in ei_cf_36_db if 'market for steel, low-alloyed' == act['name'] and 'GLO' == act['location']][0]\n",
    "Refractory_brick_c = [act for act in ei_cf_36_db if 'market for refractory, basic, packed' == act['name'] and 'GLO' == act['location']][0]\n",
    "\n",
    "calciner_construction.new_exchange(input = Concrete_c.key, amount = 0.0021, unit = \"cubic meter\",type = 'technosphere').save()\n",
    "calciner_construction.new_exchange(input = Low_alloyed_steel_c.key, amount = 0.059, unit = \"kilogram\",type = 'technosphere').save()\n",
    "calciner_construction.new_exchange(input = Refractory_brick_c.key, amount = 0.12, unit = \"kilogram\",type = 'technosphere').save()\n"
   ]
  },
  {
   "cell_type": "code",
   "execution_count": 12,
   "id": "91733277",
   "metadata": {},
   "outputs": [],
   "source": [
    "# OTHER EQUIPMENT\n",
    "\n",
    "other_equipment = ei_cf_36_db.new_activity(code = 'other_equipment', name = \"Other Equipment\", unit = \"unit\")\n",
    "\n",
    "Concrete_oe = [act for act in ei_cf_36_db if 'market for concrete, normal' == act['name'] and 'RoW' == act['location']][0]\n",
    "Aluminium_oe = [act for act in ei_cf_36_db if 'market for aluminium, wrought alloy' == act['name'] and 'GLO' == act['location']][0]\n",
    "Low_alloyed_steel_oe = [act for act in ei_cf_36_db if 'market for steel, low-alloyed' == act['name'] and 'GLO' == act['location']][0]\n",
    "Stainless_steel_oe = [act for act in ei_cf_36_db if 'steel production, chromium steel 18/8, hot rolled' == act['name'] and 'RoW' == act['location']][0]\n",
    "Carbon_steel_oe = [act for act in ei_cf_36_db if 'market for steel, unalloyed' == act['name'] and 'GLO' == act['location']][0]\n",
    "\n",
    "other_equipment.new_exchange(input = Concrete_oe.key, amount = 0.0037, unit = \"cubic meter\",type = 'technosphere').save()\n",
    "other_equipment.new_exchange(input = Aluminium_oe.key, amount = 0.0025, unit = \"kilogram\",type = 'technosphere').save()\n",
    "other_equipment.new_exchange(input = Low_alloyed_steel_oe.key, amount = 0.048, unit = \"kilogram\",type = 'technosphere').save()\n",
    "other_equipment.new_exchange(input = Stainless_steel_oe.key, amount = 0.033, unit = \"kilogram\",type = 'technosphere').save()\n",
    "other_equipment.new_exchange(input = Carbon_steel_oe.key, amount = 0.27, unit = \"kilogram\",type = 'technosphere').save()"
   ]
  },
  {
   "cell_type": "code",
   "execution_count": 13,
   "id": "0a47f46f",
   "metadata": {},
   "outputs": [],
   "source": [
    "# DAC OPERATION: WATER\n",
    "\n",
    "dac_operation_water = ei_cf_36_db.new_activity(code = 'dac_operation_water', name = \"DAC Operation Water\", unit = \"kilogram\")\n",
    "\n",
    "Water = [act for act in ei_cf_36_db if 'market for tap water' == act['name'] and 'RoW' == act['location']][0]\n",
    "\n",
    "dac_operation_water.new_exchange(input = Water.key, amount = 3437, unit = \"kilogram\",type = 'technosphere').save()"
   ]
  },
  {
   "cell_type": "code",
   "execution_count": 14,
   "id": "3462a99b",
   "metadata": {},
   "outputs": [],
   "source": [
    "# DAC OPERATION: ELECTRICITY\n",
    "\n",
    "dac_operation_elec = ei_cf_36_db.new_activity(code = 'dac_operation_elec', name = \"DAC Operation Electricity\", unit = \"kWh\")\n",
    "\n",
    "Electricity_e = [act for act in ei_cf_36_db if 'market group for electricity, medium voltage' == act['name'] and 'US' == act['location']][0]\n",
    "\n",
    "dac_operation_elec.new_exchange(input = Electricity_e.key, amount = 345, unit = \"kWh\",type = 'technosphere').save()"
   ]
  },
  {
   "cell_type": "code",
   "execution_count": 15,
   "id": "28e5bb2d",
   "metadata": {},
   "outputs": [],
   "source": [
    "# DAC OPERATION: HEAT\n",
    "\n",
    "dac_operation_heat = ei_cf_36_db.new_activity(code = 'dac_operation_heat', name = \"DAC Operation Heat\", unit = \"MJ\")\n",
    "\n",
    "Natural_gas = [act for act in ei_cf_36_db if 'heat production, natural gas, at industrial furnace >100kW' == act['name'] and 'RoW' == act['location']][0]\n",
    "\n",
    "dac_operation_heat.new_exchange(input = Natural_gas.key, amount = 6280, unit = \"MJ\",type = 'technosphere').save()\n"
   ]
  },
  {
   "cell_type": "code",
   "execution_count": 16,
   "id": "16be61fa",
   "metadata": {},
   "outputs": [],
   "source": [
    "# DAC OPERATION: MATERIAL\n",
    "\n",
    "dac_operation_material = ei_cf_36_db.new_activity(code = 'dac_operation_material', name = \"DAC Operation Material\", unit = \"kg\")\n",
    "\n",
    "Potassium_hydroxide = [act for act in ei_cf_36_db if 'market for potassium hydroxide' == act['name'] and 'GLO' == act['location']][0]\n",
    "Calcium_carbonate = [act for act in ei_cf_36_db if 'market for limestone, crushed, for mill' == act['name'] and 'RoW' == act['location']][0]\n",
    "\n",
    "dac_operation_material.new_exchange(input = Potassium_hydroxide.key, amount = 4.0, unit = \"kilogram\",type = 'technosphere').save()\n",
    "dac_operation_material.new_exchange(input = Calcium_carbonate.key, amount = 3.5, unit = \"kilogram\",type = 'technosphere').save()"
   ]
  },
  {
   "cell_type": "code",
   "execution_count": 17,
   "id": "ba29ac68",
   "metadata": {},
   "outputs": [],
   "source": [
    "# DAC END-OF-LIFE\n",
    "\n",
    "dac_eol = ei_cf_36_db.new_activity(code = 'dac_eol', name = \"DAC End of life\", unit = \"unit\")\n",
    "\n",
    "Concrete_eol = [act for act in ei_cf_36_db if 'treatment of waste concrete, inert material landfill' == act['name'] and 'RoW' == act['location']][0]\n",
    "Steel_eol = [act for act in ei_cf_36_db if 'treatment of waste reinforcement steel, recycling' == act['name'] and 'RoW' == act['location']][0]\n",
    "Glass_fiber_eol = [act for act in ei_cf_36_db if 'treatment of waste plastic, mixture, municipal incineration' == act['name'] and 'RoW' == act['location']][0]\n",
    "Polyvinyl_chloride_eol = [act for act in ei_cf_36_db if 'treatment of waste polyvinylchloride, municipal incineration' == act['name'] and 'RoW' == act['location']][0]\n",
    "Polypropylene_eol = [act for act in ei_cf_36_db if 'treatment of waste polypropylene, municipal incineration' == act['name'] and 'RoW' == act['location']][0]\n",
    "Polyeruthane_eol = [act for act in ei_cf_36_db if 'treatment of waste polyurethane, municipal incineration' == act['name'] and 'RoW' == act['location']][0]\n",
    "Refractory_brick_eol = [act for act in ei_cf_36_db if 'treatment of waste brick, collection for final disposal' == act['name'] and 'RoW' == act['location']][0]\n",
    "Aluminium_eol = [act for act in ei_cf_36_db if 'treatment of aluminium scrap, post-consumer, prepared for recycling, at remelter' == act['name'] and 'RoW' == act['location']][0]\n",
    "Potassium_hydroxide_eol = [act for act in ei_cf_36_db if 'treatment of spent solvent mixture, hazardous waste incineration' == act['name'] and 'RoW' == act['location']][0]\n",
    "Calcium_carbonate_eol = [act for act in ei_cf_36_db if 'treatment of limestone residue, inert material landfill' == act['name'] and 'RoW' == act['location']][0]\n",
    "\n",
    "dac_eol.new_exchange(input = Concrete_eol.key, amount = 38, unit = \"kilogram\",type = 'technosphere').save()\n",
    "dac_eol.new_exchange(input = Steel_eol.key, amount = 0.6, unit = \"kilogram\",type = 'technosphere').save()\n",
    "dac_eol.new_exchange(input = Glass_fiber_eol.key, amount = 0.0038, unit = \"kilogram\",type = 'technosphere').save()\n",
    "dac_eol.new_exchange(input = Polyvinyl_chloride_eol.key, amount = 0.76, unit = \"kilogram\",type = 'technosphere').save()\n",
    "dac_eol.new_exchange(input = Polypropylene_eol.key, amount = 0.0008, unit = \"kilogram\",type = 'technosphere').save()\n",
    "dac_eol.new_exchange(input = Polyeruthane_eol.key, amount = 0.0005, unit = \"kilogram\",type = 'technosphere').save()\n",
    "dac_eol.new_exchange(input = Refractory_brick_eol.key, amount = 0.12, unit = \"kilogram\",type = 'technosphere').save()\n",
    "dac_eol.new_exchange(input = Aluminium_eol.key, amount = 0.0023, unit = \"kilogram\",type = 'technosphere').save()\n",
    "dac_eol.new_exchange(input = Potassium_hydroxide_eol.key, amount = 4.0, unit = \"kilogram\",type = 'technosphere').save()\n",
    "dac_eol.new_exchange(input = Calcium_carbonate_eol.key, amount = 3.5, unit = \"kilogram\",type = 'technosphere').save()"
   ]
  },
  {
   "cell_type": "code",
   "execution_count": 18,
   "id": "f85ce57a",
   "metadata": {},
   "outputs": [],
   "source": [
    "# SAVING ACTIVITIES: DO NOT RUN AGAIN!\n",
    "\n",
    "ac_construction.save()\n",
    "pellet_reactor_construction.save()\n",
    "calciner_construction.save()\n",
    "other_equipment.save()\n",
    "dac_operation_material.save()\n",
    "dac_operation_elec.save()\n",
    "dac_operation_heat.save()\n",
    "dac_operation_water.save()\n",
    "dac_eol.save()\n"
   ]
  },
  {
   "cell_type": "code",
   "execution_count": 19,
   "id": "6b8aff00",
   "metadata": {},
   "outputs": [],
   "source": [
    "# SET FUNCTIONAL UNIT\n",
    "\n",
    "air_contactor_construction_fu = {ac_construction:1}\n",
    "pellet_reactor_construction_fu = {pellet_reactor_construction:1}\n",
    "calciner_construction_fu = {calciner_construction:1}\n",
    "other_equipment_fu = {other_equipment:1}\n",
    "dac_operation_material_fu = {dac_operation_material:1}\n",
    "dac_operation_elec_fu = {dac_operation_elec:1}\n",
    "dac_operation_heat_fu = {dac_operation_heat:1}\n",
    "dac_operation_water_fu = {dac_operation_water:1}\n",
    "dac_eol_fu = {dac_eol:1}"
   ]
  },
  {
   "cell_type": "code",
   "execution_count": 31,
   "id": "4be29e3e",
   "metadata": {},
   "outputs": [],
   "source": [
    "# SAVE RESULTS IN LIST\n",
    "air_contactor_construction_result = []\n",
    "pellet_reactor_construction_result = []\n",
    "calciner_construction_result = []\n",
    "other_equipment_result = []\n",
    "dac_operation_material_result = []\n",
    "dac_operation_elec_result = []\n",
    "dac_operation_heat_result = []\n",
    "dac_operation_water_result = []\n",
    "dac_eol_result = []"
   ]
  },
  {
   "cell_type": "code",
   "execution_count": 21,
   "id": "2c232bcf",
   "metadata": {},
   "outputs": [],
   "source": [
    "# CREATE DICT\n",
    "\n",
    "DAC_cal_dict = collections.defaultdict(dict)\n",
    "\n",
    "DAC_cal_dict['ac_construction'] = {'fu' : air_contactor_construction_fu, 'result': air_contactor_construction_result}\n",
    "DAC_cal_dict['pellet_reactor_construction'] = {'fu' : pellet_reactor_construction_fu, 'result': pellet_reactor_construction_result}\n",
    "DAC_cal_dict['calciner_construction'] = {'fu' : calciner_construction_fu, 'result': calciner_construction_result}\n",
    "DAC_cal_dict['other_equipment'] = {'fu' : other_equipment_fu, 'result': other_equipment_result}\n",
    "DAC_cal_dict['dac_operation_material'] = {'fu' : dac_operation_material_fu, 'result': dac_operation_material_result}\n",
    "DAC_cal_dict['dac_eol'] = {'fu' : dac_eol_fu, 'result': dac_eol_result}\n",
    "DAC_cal_dict['dac_operation_elec'] = {'fu' : dac_operation_elec_fu, 'result': dac_operation_elec_result}\n",
    "DAC_cal_dict['dac_operation_heat'] = {'fu' : dac_operation_heat_fu, 'result': dac_operation_heat_result}\n",
    "DAC_cal_dict['dac_operation_water'] = {'fu' : dac_operation_water_fu, 'result': dac_operation_water_result}\n"
   ]
  },
  {
   "cell_type": "code",
   "execution_count": 22,
   "id": "135235ab",
   "metadata": {},
   "outputs": [],
   "source": [
    "#DEFINE LCIA METHOD\n",
    "\n",
    "method_key = [m for m in bw.methods if 'ReCiPe Midpoint (H) (obsolete)' in str(m) and 'climate change' in str(m)][0],"
   ]
  },
  {
   "cell_type": "code",
   "execution_count": 23,
   "id": "fbde659d",
   "metadata": {},
   "outputs": [],
   "source": [
    "#CALCULATE LCIA\n",
    "\n",
    "for key in DAC_cal_dict.keys():\n",
    "    lca = bw.LCA(DAC_cal_dict[key]['fu'])\n",
    "    lca.lci()\n",
    "    for method in method_key:\n",
    "        lca.switch_method(method)\n",
    "        lca.lcia()\n",
    "        DAC_cal_dict[key]['result'].append((method[2].title(), lca.score, bw.methods.get(method).get('unit')))"
   ]
  },
  {
   "cell_type": "code",
   "execution_count": 71,
   "id": "7f1a0ab7",
   "metadata": {},
   "outputs": [],
   "source": [
    "# SUBTRACTING COMBUSTION FROM NATURAL GAS VALUE (TUPLE TO LIST)\n",
    "new_val = DAC_cal_dict['dac_operation_heat']['result'][0][1] - 350\n",
    "list(DAC_cal_dict['dac_operation_heat']['result'][0])[1] = new_val\n",
    "DAC_cal_dict['dac_operation_heat']['result'][0] = tuple(list(DAC_cal_dict['dac_operation_heat']['result'][0]))[1]"
   ]
  },
  {
   "cell_type": "code",
   "execution_count": 72,
   "id": "d9bde1a9",
   "metadata": {},
   "outputs": [
    {
     "data": {
      "text/plain": [
       "defaultdict(dict,\n",
       "            {'ac_construction': {'fu': {'Air Contactor Construction' (unit, GLO, None): 1},\n",
       "              'result': [('Gwp100', 4.263037379518693, 'kg CO2-Eq')]},\n",
       "             'pellet_reactor_construction': {'fu': {'Pellet Reactor Construction' (unit, GLO, None): 1},\n",
       "              'result': [('Gwp100', 1.0358896292936999, 'kg CO2-Eq')]},\n",
       "             'calciner_construction': {'fu': {'Calciner Construction' (unit, GLO, None): 1},\n",
       "              'result': [('Gwp100', 0.9070065242592066, 'kg CO2-Eq')]},\n",
       "             'other_equipment': {'fu': {'Other Equipment' (unit, GLO, None): 1},\n",
       "              'result': [('Gwp100', 1.7848142598896626, 'kg CO2-Eq')]},\n",
       "             'dac_operation_material': {'fu': {'DAC Operation Material' (kg, GLO, None): 1},\n",
       "              'result': [('Gwp100', 9.716319904435727, 'kg CO2-Eq')]},\n",
       "             'dac_eol': {'fu': {'DAC End of life' (unit, GLO, None): 1},\n",
       "              'result': [('Gwp100', -8.295893425933238, 'kg CO2-Eq')]},\n",
       "             'dac_operation_elec': {'fu': {'DAC Operation Electricity' (kWh, GLO, None): 1},\n",
       "              'result': [('Gwp100', 192.61141270257005, 'kg CO2-Eq')]},\n",
       "             'dac_operation_heat': {'fu': {'DAC Operation Heat' (MJ, GLO, None): 1},\n",
       "              'result': [79.28613821439706]},\n",
       "             'dac_operation_water': {'fu': {'DAC Operation Water' (kilogram, GLO, None): 1},\n",
       "              'result': [('Gwp100', 3.662024027850551, 'kg CO2-Eq')]},\n",
       "             'DAC Operation Heat' (MJ, GLO, None): {},\n",
       "             'Air Contactor Construction' (unit, GLO, None): {}})"
      ]
     },
     "execution_count": 72,
     "metadata": {},
     "output_type": "execute_result"
    }
   ],
   "source": [
    "DAC_cal_dict"
   ]
  },
  {
   "cell_type": "code",
   "execution_count": 68,
   "id": "fbaa10d5",
   "metadata": {},
   "outputs": [],
   "source": [
    "df = pd.DataFrame.from_dict(DAC_cal_dict)\n",
    "df.to_excel (\"/Users/sanjanaryali/Desktop/opt/ecoinvent/lca_results.xlsx\", index = False, header=True)"
   ]
  }
 ],
 "metadata": {
  "kernelspec": {
   "display_name": "Python 3",
   "language": "python",
   "name": "python3"
  },
  "language_info": {
   "codemirror_mode": {
    "name": "ipython",
    "version": 3
   },
   "file_extension": ".py",
   "mimetype": "text/x-python",
   "name": "python",
   "nbconvert_exporter": "python",
   "pygments_lexer": "ipython3",
   "version": "3.9.1"
  }
 },
 "nbformat": 4,
 "nbformat_minor": 5
}
