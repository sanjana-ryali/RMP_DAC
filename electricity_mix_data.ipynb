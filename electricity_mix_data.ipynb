{
 "cells": [
  {
   "cell_type": "code",
   "execution_count": 20,
   "id": "1e391ac3",
   "metadata": {},
   "outputs": [],
   "source": [
    "import numpy as np\n",
    "import pyprind\n",
    "import seaborn as sns\n",
    "import pandas as pd\n",
    "import os\n",
    "import pprint\n",
    "import copy\n",
    "import wurst as w\n",
    "import brightway2 as bw\n",
    "from brightway2 import *\n",
    "from matplotlib import pyplot as plt\n",
    "from pandas import DataFrame\n",
    "from openpyxl import load_workbook"
   ]
  },
  {
   "cell_type": "code",
   "execution_count": 21,
   "id": "0639f137",
   "metadata": {},
   "outputs": [
    {
     "name": "stdout",
     "output_type": "stream",
     "text": [
      "Biosphere database already present!!! No setup is needed\n"
     ]
    }
   ],
   "source": [
    "projects.set_current(\"RMP_DAC\")\n",
    "bw.bw2setup() "
   ]
  },
  {
   "cell_type": "code",
   "execution_count": 22,
   "id": "f1bca706",
   "metadata": {},
   "outputs": [
    {
     "data": {
      "text/plain": [
       "Databases dictionary with 4 object(s):\n",
       "\tCarma CCS\n",
       "\tWave\n",
       "\tbiosphere3\n",
       "\tecoinvent3.6_RMP"
      ]
     },
     "execution_count": 22,
     "metadata": {},
     "output_type": "execute_result"
    }
   ],
   "source": [
    "databases"
   ]
  },
  {
   "cell_type": "code",
   "execution_count": 14,
   "id": "7842b713",
   "metadata": {},
   "outputs": [
    {
     "name": "stdout",
     "output_type": "stream",
     "text": [
      "Extracted 1 worksheets in 0.08 seconds\n",
      "Applying strategy: csv_restore_tuples\n",
      "Applying strategy: csv_restore_booleans\n",
      "Applying strategy: csv_numerize\n",
      "Applying strategy: csv_drop_unknown\n",
      "Applying strategy: csv_add_missing_exchanges_section\n",
      "Applying strategy: normalize_units\n",
      "Applying strategy: normalize_biosphere_categories\n",
      "Applying strategy: normalize_biosphere_names\n",
      "Applying strategy: strip_biosphere_exc_locations\n",
      "Applying strategy: set_code_by_activity_hash\n",
      "Applying strategy: link_iterable_by_fields\n",
      "Applying strategy: assign_only_product_as_production\n",
      "Applying strategy: link_technosphere_by_activity_hash\n",
      "Applying strategy: drop_falsey_uncertainty_fields_but_keep_zeros\n",
      "Applying strategy: convert_uncertainty_types_to_integers\n",
      "Applying strategy: convert_activity_parameters_to_list\n",
      "Applied 16 strategies in 0.19 seconds\n",
      "Applying strategy: link_iterable_by_fields\n",
      "Applying strategy: link_iterable_by_fields\n",
      "Applying strategy: link_iterable_by_fields\n"
     ]
    },
    {
     "name": "stderr",
     "output_type": "stream",
     "text": [
      "Writing activities to SQLite3 database:\n",
      "0% [#] 100% | ETA: 00:00:00\n",
      "Total time elapsed: 00:00:00\n"
     ]
    },
    {
     "name": "stdout",
     "output_type": "stream",
     "text": [
      "Title: Writing activities to SQLite3 database:\n",
      "  Started: 07/10/2021 11:37:25\n",
      "  Finished: 07/10/2021 11:37:25\n",
      "  Total time elapsed: 00:00:00\n",
      "  CPU %: 57.10\n",
      "  Memory %: 2.60\n",
      "Created database: Wave\n"
     ]
    }
   ],
   "source": [
    "lci_wave_path = \"/Users/sanjanaryali/Desktop/opt/ecoinvent/lci_wave.xlsx\"\n",
    "sp = ExcelImporter(lci_wave_path)\n",
    "sp.apply_strategies()  \n",
    "sp.match_database(fields=[\"name\", \"unit\", \"location\"])\n",
    "sp.match_database('ecoinvent3.6_RMP', fields=[\"reference product\", \"name\", \"unit\", \"location\"])\n",
    "sp.match_database('ecoinvent3.6_RMP', fields=[\"name\", \"unit\", \"location\"])\n",
    "sp.write_database()"
   ]
  },
  {
   "cell_type": "code",
   "execution_count": 16,
   "id": "25d6ddf2",
   "metadata": {},
   "outputs": [
    {
     "name": "stdout",
     "output_type": "stream",
     "text": [
      "Extracted 1 worksheets in 32.23 seconds\n",
      "Applying strategy: csv_restore_tuples\n",
      "Applying strategy: csv_restore_booleans\n",
      "Applying strategy: csv_numerize\n",
      "Applying strategy: csv_drop_unknown\n",
      "Applying strategy: csv_add_missing_exchanges_section\n",
      "Applying strategy: normalize_units\n",
      "Applying strategy: normalize_biosphere_categories\n",
      "Applying strategy: normalize_biosphere_names\n",
      "Applying strategy: strip_biosphere_exc_locations\n",
      "Applying strategy: set_code_by_activity_hash\n",
      "Applying strategy: link_iterable_by_fields\n",
      "Applying strategy: assign_only_product_as_production\n",
      "Applying strategy: link_technosphere_by_activity_hash\n",
      "Applying strategy: drop_falsey_uncertainty_fields_but_keep_zeros\n",
      "Applying strategy: convert_uncertainty_types_to_integers\n",
      "Applying strategy: convert_activity_parameters_to_list\n",
      "Applied 16 strategies in 0.46 seconds\n",
      "Applying strategy: link_iterable_by_fields\n",
      "Applying strategy: link_iterable_by_fields\n",
      "Applying strategy: link_iterable_by_fields\n"
     ]
    },
    {
     "name": "stderr",
     "output_type": "stream",
     "text": [
      "Writing activities to SQLite3 database:\n",
      "0% [##############################] 100% | ETA: 00:00:00\n",
      "Total time elapsed: 00:00:00\n"
     ]
    },
    {
     "name": "stdout",
     "output_type": "stream",
     "text": [
      "Title: Writing activities to SQLite3 database:\n",
      "  Started: 07/10/2021 12:20:59\n",
      "  Finished: 07/10/2021 12:21:00\n",
      "  Total time elapsed: 00:00:00\n",
      "  CPU %: 73.10\n",
      "  Memory %: 1.55\n",
      "Created database: Carma CCS\n"
     ]
    }
   ],
   "source": [
    "lci_ccs_path = \"/Users/sanjanaryali/Desktop/opt/ecoinvent/lci_ccs.xlsx\"\n",
    "\n",
    "sp = ExcelImporter(lci_ccs_path)\n",
    "sp.apply_strategies()  \n",
    "sp.match_database(fields=[\"name\", \"unit\", \"location\"])\n",
    "sp.match_database('ecoinvent3.6_RMP', fields=[\"reference product\", \"name\", \"unit\", \"location\"])\n",
    "sp.match_database('ecoinvent3.6_RMP', fields=[\"name\", \"unit\", \"location\"])\n",
    "sp.write_database()"
   ]
  },
  {
   "cell_type": "code",
   "execution_count": 23,
   "id": "cfd87985",
   "metadata": {},
   "outputs": [
    {
     "ename": "NameError",
     "evalue": "name 'extract_brightway2_databases' is not defined",
     "output_type": "error",
     "traceback": [
      "\u001b[0;31m---------------------------------------------------------------------------\u001b[0m",
      "\u001b[0;31mNameError\u001b[0m                                 Traceback (most recent call last)",
      "\u001b[0;32m<ipython-input-23-840c56fa878f>\u001b[0m in \u001b[0;36m<module>\u001b[0;34m\u001b[0m\n\u001b[0;32m----> 1\u001b[0;31m \u001b[0minput_db\u001b[0m \u001b[0;34m=\u001b[0m \u001b[0mextract_brightway2_databases\u001b[0m\u001b[0;34m(\u001b[0m\u001b[0;34m[\u001b[0m\u001b[0;34m'ecoinvent3.6_RMP'\u001b[0m\u001b[0;34m,\u001b[0m \u001b[0;34m'Carma CCS'\u001b[0m\u001b[0;34m,\u001b[0m \u001b[0;34m'Wave'\u001b[0m\u001b[0;34m]\u001b[0m\u001b[0;34m)\u001b[0m\u001b[0;34m\u001b[0m\u001b[0;34m\u001b[0m\u001b[0m\n\u001b[0m",
      "\u001b[0;31mNameError\u001b[0m: name 'extract_brightway2_databases' is not defined"
     ]
    }
   ],
   "source": [
    "input_db = extract_brightway2_databases(['ecoinvent3.6_RMP', 'Carma CCS', 'Wave'])"
   ]
  },
  {
   "cell_type": "code",
   "execution_count": null,
   "id": "773286f8",
   "metadata": {},
   "outputs": [],
   "source": []
  }
 ],
 "metadata": {
  "kernelspec": {
   "display_name": "Python 3",
   "language": "python",
   "name": "python3"
  },
  "language_info": {
   "codemirror_mode": {
    "name": "ipython",
    "version": 3
   },
   "file_extension": ".py",
   "mimetype": "text/x-python",
   "name": "python",
   "nbconvert_exporter": "python",
   "pygments_lexer": "ipython3",
   "version": "3.9.1"
  }
 },
 "nbformat": 4,
 "nbformat_minor": 5
}
