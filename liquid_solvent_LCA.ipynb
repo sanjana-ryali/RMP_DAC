{
 "cells": [
  {
   "cell_type": "code",
   "execution_count": 3,
   "id": "4cd68776",
   "metadata": {},
   "outputs": [],
   "source": [
    "import numpy as np\n",
    "import pyprind\n",
    "import seaborn as sns\n",
    "import pandas as pd\n",
    "import os\n",
    "import pprint\n",
    "import copy\n",
    "import wurst as w\n",
    "import brightway2 as bw\n",
    "from brightway2 import *\n",
    "from matplotlib import pyplot as plt\n",
    "from pandas import DataFrame\n",
    "from openpyxl import load_workbook\n",
    "import collections"
   ]
  },
  {
   "cell_type": "code",
   "execution_count": 4,
   "id": "e3d9069f",
   "metadata": {},
   "outputs": [
    {
     "data": {
      "text/plain": [
       "[Project: default, Project: RMP_DAC]"
      ]
     },
     "execution_count": 4,
     "metadata": {},
     "output_type": "execute_result"
    }
   ],
   "source": [
    "list(bw.projects)"
   ]
  },
  {
   "cell_type": "code",
   "execution_count": 5,
   "id": "5e791e34",
   "metadata": {},
   "outputs": [
    {
     "data": {
      "text/plain": [
       "[('RMP_DAC', 2, 1.253558618), ('default', 0, 8.21e-05)]"
      ]
     },
     "execution_count": 5,
     "metadata": {},
     "output_type": "execute_result"
    }
   ],
   "source": [
    "bw.projects.report()"
   ]
  },
  {
   "cell_type": "code",
   "execution_count": 6,
   "id": "6e1b7054",
   "metadata": {},
   "outputs": [
    {
     "name": "stdout",
     "output_type": "stream",
     "text": [
      "Biosphere database already present!!! No setup is needed\n"
     ]
    }
   ],
   "source": [
    "bw.projects.set_current(\"RMP_DAC\") #Creating/accessing the project\n",
    "bw.bw2setup() "
   ]
  },
  {
   "cell_type": "code",
   "execution_count": 7,
   "id": "2b6b3532",
   "metadata": {},
   "outputs": [
    {
     "data": {
      "text/plain": [
       "Databases dictionary with 2 object(s):\n",
       "\tbiosphere3\n",
       "\tecoinvent3.6_RMP"
      ]
     },
     "execution_count": 7,
     "metadata": {},
     "output_type": "execute_result"
    }
   ],
   "source": [
    "databases"
   ]
  },
  {
   "cell_type": "code",
   "execution_count": 8,
   "id": "d6be3ce3",
   "metadata": {},
   "outputs": [
    {
     "name": "stdout",
     "output_type": "stream",
     "text": [
      "Extracting XML data from 18121 datasets\n",
      "Extracted 18121 datasets in 321.54 seconds\n",
      "Applying strategy: normalize_units\n",
      "Applying strategy: update_ecoinvent_locations\n",
      "Applying strategy: remove_zero_amount_coproducts\n",
      "Applying strategy: remove_zero_amount_inputs_with_no_activity\n",
      "Applying strategy: remove_unnamed_parameters\n",
      "Applying strategy: es2_assign_only_product_with_amount_as_reference_product\n",
      "Applying strategy: assign_single_product_as_activity\n",
      "Applying strategy: create_composite_code\n",
      "Applying strategy: drop_unspecified_subcategories\n",
      "Applying strategy: fix_ecoinvent_flows_pre35\n",
      "Applying strategy: drop_temporary_outdated_biosphere_flows\n",
      "Applying strategy: link_biosphere_by_flow_uuid\n",
      "Applying strategy: link_internal_technosphere_by_composite_code\n",
      "Applying strategy: delete_exchanges_missing_activity\n",
      "Applying strategy: delete_ghost_exchanges\n",
      "Applying strategy: remove_uncertainty_from_negative_loss_exchanges\n",
      "Applying strategy: fix_unreasonably_high_lognormal_uncertainties\n",
      "Applying strategy: set_lognormal_loc_value\n",
      "Applying strategy: convert_activity_parameters_to_list\n",
      "Applying strategy: add_cpc_classification_from_single_reference_product\n",
      "Applying strategy: delete_none_synonyms\n",
      "Applied 21 strategies in 22.97 seconds\n",
      "18121 datasets\n",
      "615644 exchanges\n",
      "0 unlinked exchanges\n",
      "  \n"
     ]
    },
    {
     "name": "stderr",
     "output_type": "stream",
     "text": [
      "Writing activities to SQLite3 database:\n",
      "0% [##############################] 100% | ETA: 00:00:00\n",
      "Total time elapsed: 00:03:16\n"
     ]
    },
    {
     "name": "stdout",
     "output_type": "stream",
     "text": [
      "Title: Writing activities to SQLite3 database:\n",
      "  Started: 07/07/2021 14:24:32\n",
      "  Finished: 07/07/2021 14:27:49\n",
      "  Total time elapsed: 00:03:16\n",
      "  CPU %: 62.60\n",
      "  Memory %: 24.33\n",
      "Created database: ecoinvent3.6_RMP\n"
     ]
    },
    {
     "data": {
      "text/plain": [
       "Brightway2 SQLiteBackend: ecoinvent3.6_RMP"
      ]
     },
     "execution_count": 8,
     "metadata": {},
     "output_type": "execute_result"
    }
   ],
   "source": [
    "ei36_path_test = \"/Users/sanjanaryali/Desktop/opt/ecoinvent/datasets\"\n",
    "ei_36 = SingleOutputEcospold2Importer(ei36_path_test, \"ecoinvent3.6_RMP\")\n",
    "ei_36.apply_strategies()\n",
    "ei_36.statistics()\n",
    "ei_36.write_database()"
   ]
  },
  {
   "cell_type": "code",
   "execution_count": 8,
   "id": "ea7eef60",
   "metadata": {},
   "outputs": [],
   "source": [
    "database_name = 'ecoinvent3.6_RMP'\n",
    "ei_cf_36_db = bw.Database(database_name)"
   ]
  },
  {
   "cell_type": "code",
   "execution_count": 9,
   "id": "a7453167",
   "metadata": {},
   "outputs": [],
   "source": [
    "# AIR CONTACTOR\n",
    "\n",
    "ac_construction = ei_cf_36_db.new_activity(code = 'ac_construction', name = \"Air Contactor Construction\", unit = \"unit\")\n",
    "\n",
    "Concrete = [act for act in ei_cf_36_db if 'market for concrete, normal' == act['name'] and 'RoW' == act['location']][0]\n",
    "Low_alloyed_steel = [act for act in ei_cf_36_db if 'market for steel, low-alloyed' == act['name'] and 'GLO' == act['location']][0]\n",
    "Stainless_steel = [act for act in ei_cf_36_db if 'steel production, chromium steel 18/8, hot rolled' == act['name'] and 'RoW' == act['location']][0]\n",
    "Polyeruthane = [act for act in ei_cf_36_db if 'market for polyurethane, flexible foam' == act['name'] and 'RoW' == act['location']][0]\n",
    "Glass_fiber = [act for act in ei_cf_36_db if 'market for glass fibre' == act['name'] and 'GLO' == act['location']][0]\n",
    "Polypropylene = [act for act in ei_cf_36_db if 'market for polypropylene, granulate' == act['name'] and 'GLO' == act['location']][0]\n",
    "Polyvinyl = [act for act in ei_cf_36_db if 'market for polyvinylchloride, bulk polymerised' == act['name'] and 'GLO' == act['location']][0]\n",
    "\n",
    "ac_construction.new_exchange(input = Concrete.key, amount = 0.0067, unit = \"cubic meter\",type = 'technosphere').save()\n",
    "ac_construction.new_exchange(input = Low_alloyed_steel.key, amount = 0.27, unit = \"kilogram\",type = 'technosphere').save()\n",
    "ac_construction.new_exchange(input = Stainless_steel.key, amount = 0.0017, unit = \"kilogram\",type = 'technosphere').save()\n",
    "ac_construction.new_exchange(input = Polyeruthane.key, amount = 0.0005, unit = \"kilogram\",type = 'technosphere').save()\n",
    "ac_construction.new_exchange(input = Glass_fiber.key, amount = 0.0038, unit = \"kilogram\",type = 'technosphere').save()\n",
    "ac_construction.new_exchange(input = Polypropylene.key, amount = 0.0008, unit = \"kilogram\",type = 'technosphere').save()\n",
    "ac_construction.new_exchange(input = Polyvinyl.key, amount = 0.76, unit = \"kilogram\",type = 'technosphere').save()"
   ]
  },
  {
   "cell_type": "code",
   "execution_count": 10,
   "id": "71d6af03",
   "metadata": {},
   "outputs": [],
   "source": [
    "# PELLET REACTOR\n",
    "\n",
    "pellet_reactor_construction = ei_cf_36_db.new_activity(code = 'pellet_reactor_construction', name = \"Pellet Reactor Construction\", unit = \"unit\")\n",
    "\n",
    "Concrete_pr = [act for act in ei_cf_36_db if 'market for concrete, normal' == act['name'] and 'RoW' == act['location']][0]\n",
    "Stainless_steel_pr = [act for act in ei_cf_36_db if 'steel production, chromium steel 18/8, hot rolled' == act['name'] and 'RoW' == act['location']][0]\n",
    "\n",
    "pellet_reactor_construction.new_exchange(input = Concrete_pr.key, amount = 0.0033, unit = \"cubic meter\",type = 'technosphere').save()\n",
    "pellet_reactor_construction.new_exchange(input = Stainless_steel_pr.key, amount = 0.023, unit = \"kilogram\",type = 'technosphere').save()"
   ]
  },
  {
   "cell_type": "code",
   "execution_count": 11,
   "id": "8fb8cc42",
   "metadata": {},
   "outputs": [],
   "source": [
    "# CALCINER\n",
    "\n",
    "calciner_construction = ei_cf_36_db.new_activity(code = 'calciner_construction', name = \"Calciner Construction\", unit = \"unit\")\n",
    "\n",
    "Concrete_c = [act for act in ei_cf_36_db if 'market for concrete, normal' == act['name'] and 'RoW' == act['location']][0]\n",
    "Low_alloyed_steel_c = [act for act in ei_cf_36_db if 'market for steel, low-alloyed' == act['name'] and 'GLO' == act['location']][0]\n",
    "Refractory_brick_c = [act for act in ei_cf_36_db if 'market for refractory, basic, packed' == act['name'] and 'GLO' == act['location']][0]\n",
    "\n",
    "calciner_construction.new_exchange(input = Concrete_c.key, amount = 0.0021, unit = \"cubic meter\",type = 'technosphere').save()\n",
    "calciner_construction.new_exchange(input = Low_alloyed_steel_c.key, amount = 0.059, unit = \"kilogram\",type = 'technosphere').save()\n",
    "calciner_construction.new_exchange(input = Refractory_brick_c.key, amount = 0.12, unit = \"kilogram\",type = 'technosphere').save()\n"
   ]
  },
  {
   "cell_type": "code",
   "execution_count": 12,
   "id": "376672e6",
   "metadata": {},
   "outputs": [],
   "source": [
    "# OTHER EQUIPMENT\n",
    "\n",
    "other_equipment = ei_cf_36_db.new_activity(code = 'other_equipment', name = \"Other Equipment\", unit = \"unit\")\n",
    "\n",
    "Concrete_oe = [act for act in ei_cf_36_db if 'market for concrete, normal' == act['name'] and 'RoW' == act['location']][0]\n",
    "Aluminium_oe = [act for act in ei_cf_36_db if 'market for aluminium, wrought alloy' == act['name'] and 'GLO' == act['location']][0]\n",
    "Low_alloyed_steel_oe = [act for act in ei_cf_36_db if 'market for steel, low-alloyed' == act['name'] and 'GLO' == act['location']][0]\n",
    "Stainless_steel_oe = [act for act in ei_cf_36_db if 'steel production, chromium steel 18/8, hot rolled' == act['name'] and 'RoW' == act['location']][0]\n",
    "Carbon_steel_oe = [act for act in ei_cf_36_db if 'market for steel, unalloyed' == act['name'] and 'GLO' == act['location']][0]\n",
    "\n",
    "other_equipment.new_exchange(input = Concrete_oe.key, amount = 0.0037, unit = \"cubic meter\",type = 'technosphere').save()\n",
    "other_equipment.new_exchange(input = Aluminium_oe.key, amount = 0.0025, unit = \"kilogram\",type = 'technosphere').save()\n",
    "other_equipment.new_exchange(input = Low_alloyed_steel_oe.key, amount = 0.048, unit = \"kilogram\",type = 'technosphere').save()\n",
    "other_equipment.new_exchange(input = Stainless_steel_oe.key, amount = 0.033, unit = \"kilogram\",type = 'technosphere').save()\n",
    "other_equipment.new_exchange(input = Carbon_steel_oe.key, amount = 0.27, unit = \"kilogram\",type = 'technosphere').save()"
   ]
  },
  {
   "cell_type": "code",
   "execution_count": 79,
   "id": "bfc93496",
   "metadata": {},
   "outputs": [],
   "source": [
    "# DAC OPERATION: ENERGY - FAULTY[DO NOT REFERENCE]\n",
    "\n",
    "#dac_operation_energy = ei_cf_36_db.new_activity(code = 'dac_operation_energy', name = \"DAC Operation Energy\", unit = \"kilogram\")\n",
    "\n",
    "#Water = [act for act in ei_cf_36_db if 'market for tap water' == act['name'] and 'RoW' == act['location']][0]\n",
    "\n",
    "#dac_operation_energy.new_exchange(input = Water.key, amount = 3437, unit = \"kilogram\",type = 'technosphere').save()\n"
   ]
  },
  {
   "cell_type": "code",
   "execution_count": 88,
   "id": "551662f7",
   "metadata": {},
   "outputs": [
    {
     "ename": "OperationalError",
     "evalue": "database is locked",
     "output_type": "error",
     "traceback": [
      "\u001b[0;31m---------------------------------------------------------------------------\u001b[0m",
      "\u001b[0;31mOperationalError\u001b[0m                          Traceback (most recent call last)",
      "\u001b[0;32m~/Desktop/opt/miniconda3/lib/python3.9/site-packages/peewee.py\u001b[0m in \u001b[0;36mexecute_sql\u001b[0;34m(self, sql, params, commit)\u001b[0m\n\u001b[1;32m   3143\u001b[0m             \u001b[0;32mtry\u001b[0m\u001b[0;34m:\u001b[0m\u001b[0;34m\u001b[0m\u001b[0;34m\u001b[0m\u001b[0m\n\u001b[0;32m-> 3144\u001b[0;31m                 \u001b[0mcursor\u001b[0m\u001b[0;34m.\u001b[0m\u001b[0mexecute\u001b[0m\u001b[0;34m(\u001b[0m\u001b[0msql\u001b[0m\u001b[0;34m,\u001b[0m \u001b[0mparams\u001b[0m \u001b[0;32mor\u001b[0m \u001b[0;34m(\u001b[0m\u001b[0;34m)\u001b[0m\u001b[0;34m)\u001b[0m\u001b[0;34m\u001b[0m\u001b[0;34m\u001b[0m\u001b[0m\n\u001b[0m\u001b[1;32m   3145\u001b[0m             \u001b[0;32mexcept\u001b[0m \u001b[0mException\u001b[0m\u001b[0;34m:\u001b[0m\u001b[0;34m\u001b[0m\u001b[0;34m\u001b[0m\u001b[0m\n",
      "\u001b[0;31mOperationalError\u001b[0m: database is locked",
      "\nDuring handling of the above exception, another exception occurred:\n",
      "\u001b[0;31mOperationalError\u001b[0m                          Traceback (most recent call last)",
      "\u001b[0;32m<ipython-input-88-a9d5263a7466>\u001b[0m in \u001b[0;36m<module>\u001b[0;34m\u001b[0m\n\u001b[1;32m      5\u001b[0m \u001b[0mWater\u001b[0m \u001b[0;34m=\u001b[0m \u001b[0;34m[\u001b[0m\u001b[0mact\u001b[0m \u001b[0;32mfor\u001b[0m \u001b[0mact\u001b[0m \u001b[0;32min\u001b[0m \u001b[0mei_cf_36_db\u001b[0m \u001b[0;32mif\u001b[0m \u001b[0;34m'market for tap water'\u001b[0m \u001b[0;34m==\u001b[0m \u001b[0mact\u001b[0m\u001b[0;34m[\u001b[0m\u001b[0;34m'name'\u001b[0m\u001b[0;34m]\u001b[0m \u001b[0;32mand\u001b[0m \u001b[0;34m'RoW'\u001b[0m \u001b[0;34m==\u001b[0m \u001b[0mact\u001b[0m\u001b[0;34m[\u001b[0m\u001b[0;34m'location'\u001b[0m\u001b[0;34m]\u001b[0m\u001b[0;34m]\u001b[0m\u001b[0;34m[\u001b[0m\u001b[0;36m0\u001b[0m\u001b[0;34m]\u001b[0m\u001b[0;34m\u001b[0m\u001b[0;34m\u001b[0m\u001b[0m\n\u001b[1;32m      6\u001b[0m \u001b[0;34m\u001b[0m\u001b[0m\n\u001b[0;32m----> 7\u001b[0;31m \u001b[0mdac_operation_water\u001b[0m\u001b[0;34m.\u001b[0m\u001b[0mnew_exchange\u001b[0m\u001b[0;34m(\u001b[0m\u001b[0minput\u001b[0m \u001b[0;34m=\u001b[0m \u001b[0mWater\u001b[0m\u001b[0;34m.\u001b[0m\u001b[0mkey\u001b[0m\u001b[0;34m,\u001b[0m \u001b[0mamount\u001b[0m \u001b[0;34m=\u001b[0m \u001b[0;36m3437\u001b[0m\u001b[0;34m,\u001b[0m \u001b[0munit\u001b[0m \u001b[0;34m=\u001b[0m \u001b[0;34m\"kilogram\"\u001b[0m\u001b[0;34m,\u001b[0m\u001b[0mtype\u001b[0m \u001b[0;34m=\u001b[0m \u001b[0;34m'technosphere'\u001b[0m\u001b[0;34m)\u001b[0m\u001b[0;34m.\u001b[0m\u001b[0msave\u001b[0m\u001b[0;34m(\u001b[0m\u001b[0;34m)\u001b[0m\u001b[0;34m\u001b[0m\u001b[0;34m\u001b[0m\u001b[0m\n\u001b[0m",
      "\u001b[0;32m~/Desktop/opt/miniconda3/lib/python3.9/site-packages/bw2data/project.py\u001b[0m in \u001b[0;36mwritable_project\u001b[0;34m(wrapped, instance, args, kwargs)\u001b[0m\n\u001b[1;32m    354\u001b[0m     \u001b[0;32mif\u001b[0m \u001b[0mprojects\u001b[0m\u001b[0;34m.\u001b[0m\u001b[0mread_only\u001b[0m\u001b[0;34m:\u001b[0m\u001b[0;34m\u001b[0m\u001b[0;34m\u001b[0m\u001b[0m\n\u001b[1;32m    355\u001b[0m         \u001b[0;32mraise\u001b[0m \u001b[0mReadOnlyProject\u001b[0m\u001b[0;34m(\u001b[0m\u001b[0mREAD_ONLY_PROJECT\u001b[0m\u001b[0;34m)\u001b[0m\u001b[0;34m\u001b[0m\u001b[0;34m\u001b[0m\u001b[0m\n\u001b[0;32m--> 356\u001b[0;31m     \u001b[0;32mreturn\u001b[0m \u001b[0mwrapped\u001b[0m\u001b[0;34m(\u001b[0m\u001b[0;34m*\u001b[0m\u001b[0margs\u001b[0m\u001b[0;34m,\u001b[0m \u001b[0;34m**\u001b[0m\u001b[0mkwargs\u001b[0m\u001b[0;34m)\u001b[0m\u001b[0;34m\u001b[0m\u001b[0;34m\u001b[0m\u001b[0m\n\u001b[0m",
      "\u001b[0;32m~/Desktop/opt/miniconda3/lib/python3.9/site-packages/bw2data/backends/peewee/proxies.py\u001b[0m in \u001b[0;36msave\u001b[0;34m(self)\u001b[0m\n\u001b[1;32m    316\u001b[0m         \u001b[0;32mfor\u001b[0m \u001b[0mkey\u001b[0m\u001b[0;34m,\u001b[0m \u001b[0mvalue\u001b[0m \u001b[0;32min\u001b[0m \u001b[0mdict_as_exchangedataset\u001b[0m\u001b[0;34m(\u001b[0m\u001b[0mself\u001b[0m\u001b[0;34m.\u001b[0m\u001b[0m_data\u001b[0m\u001b[0;34m)\u001b[0m\u001b[0;34m.\u001b[0m\u001b[0mitems\u001b[0m\u001b[0;34m(\u001b[0m\u001b[0;34m)\u001b[0m\u001b[0;34m:\u001b[0m\u001b[0;34m\u001b[0m\u001b[0;34m\u001b[0m\u001b[0m\n\u001b[1;32m    317\u001b[0m             \u001b[0msetattr\u001b[0m\u001b[0;34m(\u001b[0m\u001b[0mself\u001b[0m\u001b[0;34m.\u001b[0m\u001b[0m_document\u001b[0m\u001b[0;34m,\u001b[0m \u001b[0mkey\u001b[0m\u001b[0;34m,\u001b[0m \u001b[0mvalue\u001b[0m\u001b[0;34m)\u001b[0m\u001b[0;34m\u001b[0m\u001b[0;34m\u001b[0m\u001b[0m\n\u001b[0;32m--> 318\u001b[0;31m         \u001b[0mself\u001b[0m\u001b[0;34m.\u001b[0m\u001b[0m_document\u001b[0m\u001b[0;34m.\u001b[0m\u001b[0msave\u001b[0m\u001b[0;34m(\u001b[0m\u001b[0;34m)\u001b[0m\u001b[0;34m\u001b[0m\u001b[0;34m\u001b[0m\u001b[0m\n\u001b[0m\u001b[1;32m    319\u001b[0m \u001b[0;34m\u001b[0m\u001b[0m\n\u001b[1;32m    320\u001b[0m     \u001b[0;34m@\u001b[0m\u001b[0mwritable_project\u001b[0m\u001b[0;34m\u001b[0m\u001b[0;34m\u001b[0m\u001b[0m\n",
      "\u001b[0;32m~/Desktop/opt/miniconda3/lib/python3.9/site-packages/peewee.py\u001b[0m in \u001b[0;36msave\u001b[0;34m(self, force_insert, only)\u001b[0m\n\u001b[1;32m   6554\u001b[0m             \u001b[0mrows\u001b[0m \u001b[0;34m=\u001b[0m \u001b[0mself\u001b[0m\u001b[0;34m.\u001b[0m\u001b[0mupdate\u001b[0m\u001b[0;34m(\u001b[0m\u001b[0;34m**\u001b[0m\u001b[0mfield_dict\u001b[0m\u001b[0;34m)\u001b[0m\u001b[0;34m.\u001b[0m\u001b[0mwhere\u001b[0m\u001b[0;34m(\u001b[0m\u001b[0mself\u001b[0m\u001b[0;34m.\u001b[0m\u001b[0m_pk_expr\u001b[0m\u001b[0;34m(\u001b[0m\u001b[0;34m)\u001b[0m\u001b[0;34m)\u001b[0m\u001b[0;34m.\u001b[0m\u001b[0mexecute\u001b[0m\u001b[0;34m(\u001b[0m\u001b[0;34m)\u001b[0m\u001b[0;34m\u001b[0m\u001b[0;34m\u001b[0m\u001b[0m\n\u001b[1;32m   6555\u001b[0m         \u001b[0;32melif\u001b[0m \u001b[0mpk_field\u001b[0m \u001b[0;32mis\u001b[0m \u001b[0;32mnot\u001b[0m \u001b[0;32mNone\u001b[0m\u001b[0;34m:\u001b[0m\u001b[0;34m\u001b[0m\u001b[0;34m\u001b[0m\u001b[0m\n\u001b[0;32m-> 6556\u001b[0;31m             \u001b[0mpk\u001b[0m \u001b[0;34m=\u001b[0m \u001b[0mself\u001b[0m\u001b[0;34m.\u001b[0m\u001b[0minsert\u001b[0m\u001b[0;34m(\u001b[0m\u001b[0;34m**\u001b[0m\u001b[0mfield_dict\u001b[0m\u001b[0;34m)\u001b[0m\u001b[0;34m.\u001b[0m\u001b[0mexecute\u001b[0m\u001b[0;34m(\u001b[0m\u001b[0;34m)\u001b[0m\u001b[0;34m\u001b[0m\u001b[0;34m\u001b[0m\u001b[0m\n\u001b[0m\u001b[1;32m   6557\u001b[0m             if pk is not None and (self._meta.auto_increment or\n\u001b[1;32m   6558\u001b[0m                                    pk_value is None):\n",
      "\u001b[0;32m~/Desktop/opt/miniconda3/lib/python3.9/site-packages/peewee.py\u001b[0m in \u001b[0;36minner\u001b[0;34m(self, database, *args, **kwargs)\u001b[0m\n\u001b[1;32m   1905\u001b[0m             raise InterfaceError('Query must be bound to a database in order '\n\u001b[1;32m   1906\u001b[0m                                  'to call \"%s\".' % method.__name__)\n\u001b[0;32m-> 1907\u001b[0;31m         \u001b[0;32mreturn\u001b[0m \u001b[0mmethod\u001b[0m\u001b[0;34m(\u001b[0m\u001b[0mself\u001b[0m\u001b[0;34m,\u001b[0m \u001b[0mdatabase\u001b[0m\u001b[0;34m,\u001b[0m \u001b[0;34m*\u001b[0m\u001b[0margs\u001b[0m\u001b[0;34m,\u001b[0m \u001b[0;34m**\u001b[0m\u001b[0mkwargs\u001b[0m\u001b[0;34m)\u001b[0m\u001b[0;34m\u001b[0m\u001b[0;34m\u001b[0m\u001b[0m\n\u001b[0m\u001b[1;32m   1908\u001b[0m     \u001b[0;32mreturn\u001b[0m \u001b[0minner\u001b[0m\u001b[0;34m\u001b[0m\u001b[0;34m\u001b[0m\u001b[0m\n\u001b[1;32m   1909\u001b[0m \u001b[0;34m\u001b[0m\u001b[0m\n",
      "\u001b[0;32m~/Desktop/opt/miniconda3/lib/python3.9/site-packages/peewee.py\u001b[0m in \u001b[0;36mexecute\u001b[0;34m(self, database)\u001b[0m\n\u001b[1;32m   1976\u001b[0m     \u001b[0;34m@\u001b[0m\u001b[0mdatabase_required\u001b[0m\u001b[0;34m\u001b[0m\u001b[0;34m\u001b[0m\u001b[0m\n\u001b[1;32m   1977\u001b[0m     \u001b[0;32mdef\u001b[0m \u001b[0mexecute\u001b[0m\u001b[0;34m(\u001b[0m\u001b[0mself\u001b[0m\u001b[0;34m,\u001b[0m \u001b[0mdatabase\u001b[0m\u001b[0;34m)\u001b[0m\u001b[0;34m:\u001b[0m\u001b[0;34m\u001b[0m\u001b[0;34m\u001b[0m\u001b[0m\n\u001b[0;32m-> 1978\u001b[0;31m         \u001b[0;32mreturn\u001b[0m \u001b[0mself\u001b[0m\u001b[0;34m.\u001b[0m\u001b[0m_execute\u001b[0m\u001b[0;34m(\u001b[0m\u001b[0mdatabase\u001b[0m\u001b[0;34m)\u001b[0m\u001b[0;34m\u001b[0m\u001b[0;34m\u001b[0m\u001b[0m\n\u001b[0m\u001b[1;32m   1979\u001b[0m \u001b[0;34m\u001b[0m\u001b[0m\n\u001b[1;32m   1980\u001b[0m     \u001b[0;32mdef\u001b[0m \u001b[0m_execute\u001b[0m\u001b[0;34m(\u001b[0m\u001b[0mself\u001b[0m\u001b[0;34m,\u001b[0m \u001b[0mdatabase\u001b[0m\u001b[0;34m)\u001b[0m\u001b[0;34m:\u001b[0m\u001b[0;34m\u001b[0m\u001b[0;34m\u001b[0m\u001b[0m\n",
      "\u001b[0;32m~/Desktop/opt/miniconda3/lib/python3.9/site-packages/peewee.py\u001b[0m in \u001b[0;36m_execute\u001b[0;34m(self, database)\u001b[0m\n\u001b[1;32m   2743\u001b[0m             \u001b[0mself\u001b[0m\u001b[0;34m.\u001b[0m\u001b[0m_returning\u001b[0m \u001b[0;34m=\u001b[0m \u001b[0;34m(\u001b[0m\u001b[0mself\u001b[0m\u001b[0;34m.\u001b[0m\u001b[0mtable\u001b[0m\u001b[0;34m.\u001b[0m\u001b[0m_primary_key\u001b[0m\u001b[0;34m,\u001b[0m\u001b[0;34m)\u001b[0m\u001b[0;34m\u001b[0m\u001b[0;34m\u001b[0m\u001b[0m\n\u001b[1;32m   2744\u001b[0m         \u001b[0;32mtry\u001b[0m\u001b[0;34m:\u001b[0m\u001b[0;34m\u001b[0m\u001b[0;34m\u001b[0m\u001b[0m\n\u001b[0;32m-> 2745\u001b[0;31m             \u001b[0;32mreturn\u001b[0m \u001b[0msuper\u001b[0m\u001b[0;34m(\u001b[0m\u001b[0mInsert\u001b[0m\u001b[0;34m,\u001b[0m \u001b[0mself\u001b[0m\u001b[0;34m)\u001b[0m\u001b[0;34m.\u001b[0m\u001b[0m_execute\u001b[0m\u001b[0;34m(\u001b[0m\u001b[0mdatabase\u001b[0m\u001b[0;34m)\u001b[0m\u001b[0;34m\u001b[0m\u001b[0;34m\u001b[0m\u001b[0m\n\u001b[0m\u001b[1;32m   2746\u001b[0m         \u001b[0;32mexcept\u001b[0m \u001b[0mself\u001b[0m\u001b[0;34m.\u001b[0m\u001b[0mDefaultValuesException\u001b[0m\u001b[0;34m:\u001b[0m\u001b[0;34m\u001b[0m\u001b[0;34m\u001b[0m\u001b[0m\n\u001b[1;32m   2747\u001b[0m             \u001b[0;32mpass\u001b[0m\u001b[0;34m\u001b[0m\u001b[0;34m\u001b[0m\u001b[0m\n",
      "\u001b[0;32m~/Desktop/opt/miniconda3/lib/python3.9/site-packages/peewee.py\u001b[0m in \u001b[0;36m_execute\u001b[0;34m(self, database)\u001b[0m\n\u001b[1;32m   2472\u001b[0m             \u001b[0mcursor\u001b[0m \u001b[0;34m=\u001b[0m \u001b[0mself\u001b[0m\u001b[0;34m.\u001b[0m\u001b[0mexecute_returning\u001b[0m\u001b[0;34m(\u001b[0m\u001b[0mdatabase\u001b[0m\u001b[0;34m)\u001b[0m\u001b[0;34m\u001b[0m\u001b[0;34m\u001b[0m\u001b[0m\n\u001b[1;32m   2473\u001b[0m         \u001b[0;32melse\u001b[0m\u001b[0;34m:\u001b[0m\u001b[0;34m\u001b[0m\u001b[0;34m\u001b[0m\u001b[0m\n\u001b[0;32m-> 2474\u001b[0;31m             \u001b[0mcursor\u001b[0m \u001b[0;34m=\u001b[0m \u001b[0mdatabase\u001b[0m\u001b[0;34m.\u001b[0m\u001b[0mexecute\u001b[0m\u001b[0;34m(\u001b[0m\u001b[0mself\u001b[0m\u001b[0;34m)\u001b[0m\u001b[0;34m\u001b[0m\u001b[0;34m\u001b[0m\u001b[0m\n\u001b[0m\u001b[1;32m   2475\u001b[0m         \u001b[0;32mreturn\u001b[0m \u001b[0mself\u001b[0m\u001b[0;34m.\u001b[0m\u001b[0mhandle_result\u001b[0m\u001b[0;34m(\u001b[0m\u001b[0mdatabase\u001b[0m\u001b[0;34m,\u001b[0m \u001b[0mcursor\u001b[0m\u001b[0;34m)\u001b[0m\u001b[0;34m\u001b[0m\u001b[0;34m\u001b[0m\u001b[0m\n\u001b[1;32m   2476\u001b[0m \u001b[0;34m\u001b[0m\u001b[0m\n",
      "\u001b[0;32m~/Desktop/opt/miniconda3/lib/python3.9/site-packages/peewee.py\u001b[0m in \u001b[0;36mexecute\u001b[0;34m(self, query, commit, **context_options)\u001b[0m\n\u001b[1;32m   3155\u001b[0m         \u001b[0mctx\u001b[0m \u001b[0;34m=\u001b[0m \u001b[0mself\u001b[0m\u001b[0;34m.\u001b[0m\u001b[0mget_sql_context\u001b[0m\u001b[0;34m(\u001b[0m\u001b[0;34m**\u001b[0m\u001b[0mcontext_options\u001b[0m\u001b[0;34m)\u001b[0m\u001b[0;34m\u001b[0m\u001b[0;34m\u001b[0m\u001b[0m\n\u001b[1;32m   3156\u001b[0m         \u001b[0msql\u001b[0m\u001b[0;34m,\u001b[0m \u001b[0mparams\u001b[0m \u001b[0;34m=\u001b[0m \u001b[0mctx\u001b[0m\u001b[0;34m.\u001b[0m\u001b[0msql\u001b[0m\u001b[0;34m(\u001b[0m\u001b[0mquery\u001b[0m\u001b[0;34m)\u001b[0m\u001b[0;34m.\u001b[0m\u001b[0mquery\u001b[0m\u001b[0;34m(\u001b[0m\u001b[0;34m)\u001b[0m\u001b[0;34m\u001b[0m\u001b[0;34m\u001b[0m\u001b[0m\n\u001b[0;32m-> 3157\u001b[0;31m         \u001b[0;32mreturn\u001b[0m \u001b[0mself\u001b[0m\u001b[0;34m.\u001b[0m\u001b[0mexecute_sql\u001b[0m\u001b[0;34m(\u001b[0m\u001b[0msql\u001b[0m\u001b[0;34m,\u001b[0m \u001b[0mparams\u001b[0m\u001b[0;34m,\u001b[0m \u001b[0mcommit\u001b[0m\u001b[0;34m=\u001b[0m\u001b[0mcommit\u001b[0m\u001b[0;34m)\u001b[0m\u001b[0;34m\u001b[0m\u001b[0;34m\u001b[0m\u001b[0m\n\u001b[0m\u001b[1;32m   3158\u001b[0m \u001b[0;34m\u001b[0m\u001b[0m\n\u001b[1;32m   3159\u001b[0m     \u001b[0;32mdef\u001b[0m \u001b[0mget_context_options\u001b[0m\u001b[0;34m(\u001b[0m\u001b[0mself\u001b[0m\u001b[0;34m)\u001b[0m\u001b[0;34m:\u001b[0m\u001b[0;34m\u001b[0m\u001b[0;34m\u001b[0m\u001b[0m\n",
      "\u001b[0;32m~/Desktop/opt/miniconda3/lib/python3.9/site-packages/peewee.py\u001b[0m in \u001b[0;36mexecute_sql\u001b[0;34m(self, sql, params, commit)\u001b[0m\n\u001b[1;32m   3149\u001b[0m             \u001b[0;32melse\u001b[0m\u001b[0;34m:\u001b[0m\u001b[0;34m\u001b[0m\u001b[0;34m\u001b[0m\u001b[0m\n\u001b[1;32m   3150\u001b[0m                 \u001b[0;32mif\u001b[0m \u001b[0mcommit\u001b[0m \u001b[0;32mand\u001b[0m \u001b[0;32mnot\u001b[0m \u001b[0mself\u001b[0m\u001b[0;34m.\u001b[0m\u001b[0min_transaction\u001b[0m\u001b[0;34m(\u001b[0m\u001b[0;34m)\u001b[0m\u001b[0;34m:\u001b[0m\u001b[0;34m\u001b[0m\u001b[0;34m\u001b[0m\u001b[0m\n\u001b[0;32m-> 3151\u001b[0;31m                     \u001b[0mself\u001b[0m\u001b[0;34m.\u001b[0m\u001b[0mcommit\u001b[0m\u001b[0;34m(\u001b[0m\u001b[0;34m)\u001b[0m\u001b[0;34m\u001b[0m\u001b[0;34m\u001b[0m\u001b[0m\n\u001b[0m\u001b[1;32m   3152\u001b[0m         \u001b[0;32mreturn\u001b[0m \u001b[0mcursor\u001b[0m\u001b[0;34m\u001b[0m\u001b[0;34m\u001b[0m\u001b[0m\n\u001b[1;32m   3153\u001b[0m \u001b[0;34m\u001b[0m\u001b[0m\n",
      "\u001b[0;32m~/Desktop/opt/miniconda3/lib/python3.9/site-packages/peewee.py\u001b[0m in \u001b[0;36m__exit__\u001b[0;34m(self, exc_type, exc_value, traceback)\u001b[0m\n\u001b[1;32m   2915\u001b[0m             \u001b[0mnew_type\u001b[0m \u001b[0;34m=\u001b[0m \u001b[0mself\u001b[0m\u001b[0;34m.\u001b[0m\u001b[0mexceptions\u001b[0m\u001b[0;34m[\u001b[0m\u001b[0mexc_type\u001b[0m\u001b[0;34m.\u001b[0m\u001b[0m__name__\u001b[0m\u001b[0;34m]\u001b[0m\u001b[0;34m\u001b[0m\u001b[0;34m\u001b[0m\u001b[0m\n\u001b[1;32m   2916\u001b[0m             \u001b[0mexc_args\u001b[0m \u001b[0;34m=\u001b[0m \u001b[0mexc_value\u001b[0m\u001b[0;34m.\u001b[0m\u001b[0margs\u001b[0m\u001b[0;34m\u001b[0m\u001b[0;34m\u001b[0m\u001b[0m\n\u001b[0;32m-> 2917\u001b[0;31m             \u001b[0mreraise\u001b[0m\u001b[0;34m(\u001b[0m\u001b[0mnew_type\u001b[0m\u001b[0;34m,\u001b[0m \u001b[0mnew_type\u001b[0m\u001b[0;34m(\u001b[0m\u001b[0mexc_value\u001b[0m\u001b[0;34m,\u001b[0m \u001b[0;34m*\u001b[0m\u001b[0mexc_args\u001b[0m\u001b[0;34m)\u001b[0m\u001b[0;34m,\u001b[0m \u001b[0mtraceback\u001b[0m\u001b[0;34m)\u001b[0m\u001b[0;34m\u001b[0m\u001b[0;34m\u001b[0m\u001b[0m\n\u001b[0m\u001b[1;32m   2918\u001b[0m \u001b[0;34m\u001b[0m\u001b[0m\n\u001b[1;32m   2919\u001b[0m \u001b[0;34m\u001b[0m\u001b[0m\n",
      "\u001b[0;32m~/Desktop/opt/miniconda3/lib/python3.9/site-packages/peewee.py\u001b[0m in \u001b[0;36mreraise\u001b[0;34m(tp, value, tb)\u001b[0m\n\u001b[1;32m    188\u001b[0m     \u001b[0;32mdef\u001b[0m \u001b[0mreraise\u001b[0m\u001b[0;34m(\u001b[0m\u001b[0mtp\u001b[0m\u001b[0;34m,\u001b[0m \u001b[0mvalue\u001b[0m\u001b[0;34m,\u001b[0m \u001b[0mtb\u001b[0m\u001b[0;34m=\u001b[0m\u001b[0;32mNone\u001b[0m\u001b[0;34m)\u001b[0m\u001b[0;34m:\u001b[0m\u001b[0;34m\u001b[0m\u001b[0;34m\u001b[0m\u001b[0m\n\u001b[1;32m    189\u001b[0m         \u001b[0;32mif\u001b[0m \u001b[0mvalue\u001b[0m\u001b[0;34m.\u001b[0m\u001b[0m__traceback__\u001b[0m \u001b[0;32mis\u001b[0m \u001b[0;32mnot\u001b[0m \u001b[0mtb\u001b[0m\u001b[0;34m:\u001b[0m\u001b[0;34m\u001b[0m\u001b[0;34m\u001b[0m\u001b[0m\n\u001b[0;32m--> 190\u001b[0;31m             \u001b[0;32mraise\u001b[0m \u001b[0mvalue\u001b[0m\u001b[0;34m.\u001b[0m\u001b[0mwith_traceback\u001b[0m\u001b[0;34m(\u001b[0m\u001b[0mtb\u001b[0m\u001b[0;34m)\u001b[0m\u001b[0;34m\u001b[0m\u001b[0;34m\u001b[0m\u001b[0m\n\u001b[0m\u001b[1;32m    191\u001b[0m         \u001b[0;32mraise\u001b[0m \u001b[0mvalue\u001b[0m\u001b[0;34m\u001b[0m\u001b[0;34m\u001b[0m\u001b[0m\n\u001b[1;32m    192\u001b[0m \u001b[0;34m\u001b[0m\u001b[0m\n",
      "\u001b[0;32m~/Desktop/opt/miniconda3/lib/python3.9/site-packages/peewee.py\u001b[0m in \u001b[0;36mexecute_sql\u001b[0;34m(self, sql, params, commit)\u001b[0m\n\u001b[1;32m   3142\u001b[0m             \u001b[0mcursor\u001b[0m \u001b[0;34m=\u001b[0m \u001b[0mself\u001b[0m\u001b[0;34m.\u001b[0m\u001b[0mcursor\u001b[0m\u001b[0;34m(\u001b[0m\u001b[0mcommit\u001b[0m\u001b[0;34m)\u001b[0m\u001b[0;34m\u001b[0m\u001b[0;34m\u001b[0m\u001b[0m\n\u001b[1;32m   3143\u001b[0m             \u001b[0;32mtry\u001b[0m\u001b[0;34m:\u001b[0m\u001b[0;34m\u001b[0m\u001b[0;34m\u001b[0m\u001b[0m\n\u001b[0;32m-> 3144\u001b[0;31m                 \u001b[0mcursor\u001b[0m\u001b[0;34m.\u001b[0m\u001b[0mexecute\u001b[0m\u001b[0;34m(\u001b[0m\u001b[0msql\u001b[0m\u001b[0;34m,\u001b[0m \u001b[0mparams\u001b[0m \u001b[0;32mor\u001b[0m \u001b[0;34m(\u001b[0m\u001b[0;34m)\u001b[0m\u001b[0;34m)\u001b[0m\u001b[0;34m\u001b[0m\u001b[0;34m\u001b[0m\u001b[0m\n\u001b[0m\u001b[1;32m   3145\u001b[0m             \u001b[0;32mexcept\u001b[0m \u001b[0mException\u001b[0m\u001b[0;34m:\u001b[0m\u001b[0;34m\u001b[0m\u001b[0;34m\u001b[0m\u001b[0m\n\u001b[1;32m   3146\u001b[0m                 \u001b[0;32mif\u001b[0m \u001b[0mself\u001b[0m\u001b[0;34m.\u001b[0m\u001b[0mautorollback\u001b[0m \u001b[0;32mand\u001b[0m \u001b[0;32mnot\u001b[0m \u001b[0mself\u001b[0m\u001b[0;34m.\u001b[0m\u001b[0min_transaction\u001b[0m\u001b[0;34m(\u001b[0m\u001b[0;34m)\u001b[0m\u001b[0;34m:\u001b[0m\u001b[0;34m\u001b[0m\u001b[0;34m\u001b[0m\u001b[0m\n",
      "\u001b[0;31mOperationalError\u001b[0m: database is locked"
     ]
    }
   ],
   "source": [
    "# DAC OPERATION: WATER\n",
    "\n",
    "dac_operation_water = ei_cf_36_db.new_activity(code = 'dac_operation_water', name = \"DAC Operation Water\", unit = \"kilogram\")\n",
    "\n",
    "Water = [act for act in ei_cf_36_db if 'market for tap water' == act['name'] and 'RoW' == act['location']][0]\n",
    "\n",
    "dac_operation_water.new_exchange(input = Water.key, amount = 3437, unit = \"kilogram\",type = 'technosphere').save()\n"
   ]
  },
  {
   "cell_type": "code",
   "execution_count": 80,
   "id": "8286124d",
   "metadata": {},
   "outputs": [],
   "source": [
    "# DAC OPERATION: ELECTRICITY\n",
    "\n",
    "dac_operation_elec = ei_cf_36_db.new_activity(code = 'dac_operation_elec', name = \"DAC Operation Electricity\", unit = \"kWh\")\n",
    "\n",
    "Electricity_e = [act for act in ei_cf_36_db if 'market group for electricity, medium voltage' == act['name'] and 'US' == act['location']][0]\n",
    "\n",
    "dac_operation_elec.new_exchange(input = Electricity_e.key, amount = 345, unit = \"kWh\",type = 'technosphere').save()"
   ]
  },
  {
   "cell_type": "code",
   "execution_count": 81,
   "id": "d3fdb1e4",
   "metadata": {},
   "outputs": [],
   "source": [
    "# DAC OPERATION: HEAT\n",
    "\n",
    "dac_operation_heat = ei_cf_36_db.new_activity(code = 'dac_operation_heat', name = \"DAC Operation Heat\", unit = \"MJ\")\n",
    "\n",
    "Natural_gas = [act for act in ei_cf_36_db if 'heat production, natural gas, at industrial furnace >100kW' == act['name'] and 'RoW' == act['location']][0]\n",
    "\n",
    "dac_operation_heat.new_exchange(input = Natural_gas.key, amount = 6280, unit = \"MJ\",type = 'technosphere').save()\n"
   ]
  },
  {
   "cell_type": "code",
   "execution_count": 62,
   "id": "61f033bb",
   "metadata": {},
   "outputs": [],
   "source": [
    "# DAC OPERATION: MATERIAL\n",
    "\n",
    "dac_operation_material = ei_cf_36_db.new_activity(code = 'dac_operation_material', name = \"DAC Operation Material\", unit = \"kg\")\n",
    "\n",
    "Potassium_hydroxide = [act for act in ei_cf_36_db if 'market for potassium hydroxide' == act['name'] and 'GLO' == act['location']][0]\n",
    "Calcium_carbonate = [act for act in ei_cf_36_db if 'market for limestone, crushed, for mill' == act['name'] and 'RoW' == act['location']][0]\n",
    "\n",
    "dac_operation_material.new_exchange(input = Potassium_hydroxide.key, amount = 4.0, unit = \"kilogram\",type = 'technosphere').save()\n",
    "dac_operation_material.new_exchange(input = Calcium_carbonate.key, amount = 3.5, unit = \"kilogram\",type = 'technosphere').save()"
   ]
  },
  {
   "cell_type": "code",
   "execution_count": 63,
   "id": "0708db94",
   "metadata": {},
   "outputs": [],
   "source": [
    "# DAC END-OF-LIFE\n",
    "\n",
    "dac_eol = ei_cf_36_db.new_activity(code = 'dac_eol', name = \"DAC End of life\", unit = \"unit\")\n",
    "\n",
    "Concrete_eol = [act for act in ei_cf_36_db if 'treatment of waste concrete, inert material landfill' == act['name'] and 'RoW' == act['location']][0]\n",
    "Steel_eol = [act for act in ei_cf_36_db if 'treatment of waste reinforcement steel, recycling' == act['name'] and 'RoW' == act['location']][0]\n",
    "Glass_fiber_eol = [act for act in ei_cf_36_db if 'treatment of waste plastic, mixture, municipal incineration' == act['name'] and 'RoW' == act['location']][0]\n",
    "Polyvinyl_chloride_eol = [act for act in ei_cf_36_db if 'treatment of waste polyvinylchloride, municipal incineration' == act['name'] and 'RoW' == act['location']][0]\n",
    "Polypropylene_eol = [act for act in ei_cf_36_db if 'treatment of waste polypropylene, municipal incineration' == act['name'] and 'RoW' == act['location']][0]\n",
    "Polyeruthane_eol = [act for act in ei_cf_36_db if 'treatment of waste polyurethane, municipal incineration' == act['name'] and 'RoW' == act['location']][0]\n",
    "Refractory_brick_eol = [act for act in ei_cf_36_db if 'treatment of waste brick, collection for final disposal' == act['name'] and 'RoW' == act['location']][0]\n",
    "Aluminium_eol = [act for act in ei_cf_36_db if 'treatment of aluminium scrap, post-consumer, prepared for recycling, at remelter' == act['name'] and 'RoW' == act['location']][0]\n",
    "Potassium_hydroxide_eol = [act for act in ei_cf_36_db if 'treatment of spent solvent mixture, hazardous waste incineration' == act['name'] and 'RoW' == act['location']][0]\n",
    "Calcium_carbonate_eol = [act for act in ei_cf_36_db if 'treatment of limestone residue, inert material landfill' == act['name'] and 'RoW' == act['location']][0]\n",
    "\n",
    "dac_eol.new_exchange(input = Concrete_eol.key, amount = 38, unit = \"kilogram\",type = 'technosphere').save()\n",
    "dac_eol.new_exchange(input = Steel_eol.key, amount = 0.6, unit = \"kilogram\",type = 'technosphere').save()\n",
    "dac_eol.new_exchange(input = Glass_fiber_eol.key, amount = 0.0038, unit = \"kilogram\",type = 'technosphere').save()\n",
    "dac_eol.new_exchange(input = Polyvinyl_chloride_eol.key, amount = 0.76, unit = \"kilogram\",type = 'technosphere').save()\n",
    "dac_eol.new_exchange(input = Polypropylene_eol.key, amount = 0.0008, unit = \"kilogram\",type = 'technosphere').save()\n",
    "dac_eol.new_exchange(input = Polyeruthane_eol.key, amount = 0.0005, unit = \"kilogram\",type = 'technosphere').save()\n",
    "dac_eol.new_exchange(input = Refractory_brick_eol.key, amount = 0.12, unit = \"kilogram\",type = 'technosphere').save()\n",
    "dac_eol.new_exchange(input = Aluminium_eol.key, amount = 0.0023, unit = \"kilogram\",type = 'technosphere').save()\n",
    "dac_eol.new_exchange(input = Potassium_hydroxide_eol.key, amount = 4.0, unit = \"kilogram\",type = 'technosphere').save()\n",
    "dac_eol.new_exchange(input = Calcium_carbonate_eol.key, amount = 3.5, unit = \"kilogram\",type = 'technosphere').save()"
   ]
  },
  {
   "cell_type": "code",
   "execution_count": 18,
   "id": "65f595cd",
   "metadata": {},
   "outputs": [],
   "source": [
    "# SAVING ACTIVITIES: DO NOT RUN AGAIN!\n",
    "\n",
    "ac_construction.save()\n",
    "pellet_reactor_construction.save()\n",
    "calciner_construction.save()\n",
    "other_equipment.save()\n",
    "dac_operation_material.save()\n",
    "dac_operation_energy.save()\n",
    "dac_eol.save()\n"
   ]
  },
  {
   "cell_type": "code",
   "execution_count": 17,
   "id": "71c3075a",
   "metadata": {},
   "outputs": [],
   "source": [
    "#SAVING PART 2: DO NOT RUN AGAIN!\n",
    "dac_operation_elec.save()"
   ]
  },
  {
   "cell_type": "code",
   "execution_count": 51,
   "id": "f64b9278",
   "metadata": {},
   "outputs": [],
   "source": [
    "#SAVING PART 3: DO NOT RUN AGAIN!\n",
    "dac_operation_heat.save()"
   ]
  },
  {
   "cell_type": "code",
   "execution_count": 73,
   "id": "de91d311",
   "metadata": {},
   "outputs": [],
   "source": [
    "# SET FUNCTIONAL UNIT\n",
    "\n",
    "air_contactor_construction_fu = {ac_construction:1}\n",
    "pellet_reactor_construction_fu = {pellet_reactor_construction:1}\n",
    "calciner_construction_fu = {calciner_construction:1}\n",
    "other_equipment_fu = {other_equipment:1}\n",
    "dac_operation_material_fu = {dac_operation_material:1}\n",
    "dac_operation_energy_fu = {dac_operation_energy:1}\n",
    "dac_operation_elec_fu = {dac_operation_elec:1}\n",
    "dac_operation_heat_fu = {dac_operation_heat:1}\n",
    "dac_eol_fu = {dac_eol:1}"
   ]
  },
  {
   "cell_type": "code",
   "execution_count": 82,
   "id": "c813fa67",
   "metadata": {},
   "outputs": [],
   "source": [
    "# CREATE LIST TO SAVE RESULT\n",
    "\n",
    "air_contactor_construction_result = []\n",
    "pellet_reactor_construction_result = []\n",
    "calciner_construction_result = []\n",
    "other_equipment_result = []\n",
    "dac_operation_material_result = []\n",
    "#dac_operation_energy_result = []\n",
    "dac_operation_elec_result = []\n",
    "dac_operation_heat_result = []\n",
    "dac_eol_result = []"
   ]
  },
  {
   "cell_type": "code",
   "execution_count": 83,
   "id": "99436b83",
   "metadata": {},
   "outputs": [],
   "source": [
    "# CREATE DICT\n",
    "\n",
    "DAC_cal_dict1 = collections.defaultdict(dict)\n",
    "\n",
    "DAC_cal_dict1['ac_construction'] = {'fu' : air_contactor_construction_fu, 'result': air_contactor_construction_result}\n",
    "DAC_cal_dict1['pellet_reactor_construction'] = {'fu' : pellet_reactor_construction_fu, 'result': pellet_reactor_construction_result}\n",
    "DAC_cal_dict1['calciner_construction'] = {'fu' : calciner_construction_fu, 'result': calciner_construction_result}\n",
    "DAC_cal_dict1['other_equipment'] = {'fu' : other_equipment_fu, 'result': other_equipment_result}\n",
    "DAC_cal_dict1['dac_operation_material'] = {'fu' : dac_operation_material_fu, 'result': dac_operation_material_result}\n",
    "#DAC_cal_dict1['dac_operation_energy'] = {'fu' : dac_operation_energy_fu, 'result': dac_operation_energy_result}\n",
    "DAC_cal_dict1['dac_eol'] = {'fu' : dac_eol_fu, 'result': dac_eol_result}\n",
    "DAC_cal_dict1['dac_operation_elec'] = {'fu' : dac_operation_elec_fu, 'result': dac_operation_elec_result}\n",
    "DAC_cal_dict1['dac_operation_heat'] = {'fu' : dac_operation_heat_fu, 'result': dac_operation_heat_result}\n"
   ]
  },
  {
   "cell_type": "code",
   "execution_count": 84,
   "id": "8f8186f5",
   "metadata": {},
   "outputs": [],
   "source": [
    "#DEFINE LCIA METHOD\n",
    "\n",
    "method_key = [m for m in bw.methods if 'ReCiPe Midpoint (H) (obsolete)' in str(m) and 'climate change' in str(m)][0],"
   ]
  },
  {
   "cell_type": "code",
   "execution_count": 86,
   "id": "a098c61b",
   "metadata": {},
   "outputs": [],
   "source": [
    "#CALCULATE LCIA\n",
    "\n",
    "for key in DAC_cal_dict1.keys():\n",
    "    lca = bw.LCA(DAC_cal_dict1[key]['fu'])\n",
    "    lca.lci()\n",
    "    for method in method_key:\n",
    "        lca.switch_method(method)\n",
    "        lca.lcia()\n",
    "        DAC_cal_dict1[key]['result'].append((method[2].title(), lca.score, bw.methods.get(method).get('unit')))"
   ]
  },
  {
   "cell_type": "code",
   "execution_count": 87,
   "id": "ff5a673d",
   "metadata": {},
   "outputs": [
    {
     "data": {
      "text/plain": [
       "defaultdict(dict,\n",
       "            {'ac_construction': {'fu': {'Air Contactor Construction' (unit, GLO, None): 1},\n",
       "              'result': [('Gwp100', 8.526074759037426, 'kg CO2-Eq')]},\n",
       "             'pellet_reactor_construction': {'fu': {'Pellet Reactor Construction' (unit, GLO, None): 1},\n",
       "              'result': [('Gwp100', 2.071779258587415, 'kg CO2-Eq')]},\n",
       "             'calciner_construction': {'fu': {'Calciner Construction' (unit, GLO, None): 1},\n",
       "              'result': [('Gwp100', 1.8140130485184347, 'kg CO2-Eq')]},\n",
       "             'other_equipment': {'fu': {'Other Equipment' (unit, GLO, None): 1},\n",
       "              'result': [('Gwp100', 3.569628519779356, 'kg CO2-Eq')]},\n",
       "             'dac_operation_material': {'fu': {'DAC Operation Material' (kg, GLO, None): 1},\n",
       "              'result': [('Gwp100', 29.148959713307338, 'kg CO2-Eq')]},\n",
       "             'dac_operation_energy': {'fu': {'DAC Operation Energy' (kilogram, GLO, None): 1},\n",
       "              'result': [('Gwp100', 3439.1212786043798, 'kg CO2-Eq')]},\n",
       "             'dac_eol': {'fu': {'DAC End of life' (unit, GLO, None): 1},\n",
       "              'result': [('Gwp100', -28.099854520176976, 'kg CO2-Eq')]},\n",
       "             'dac_operation_elec': {'fu': {'DAC Operation Electricity' (kWh, GLO, None): 1},\n",
       "              'result': [('Gwp100', 192.61141270256923, 'kg CO2-Eq')]},\n",
       "             'dac_operation_heat': {'fu': {'DAC Operation Heat' (MJ, GLO, None): 1},\n",
       "              'result': [('Gwp100', 429.28613821439694, 'kg CO2-Eq')]}})"
      ]
     },
     "execution_count": 87,
     "metadata": {},
     "output_type": "execute_result"
    }
   ],
   "source": [
    "DAC_cal_dict1"
   ]
  },
  {
   "cell_type": "code",
   "execution_count": 90,
   "id": "f37fdd1e",
   "metadata": {},
   "outputs": [],
   "source": [
    "df = pd.DataFrame.from_dict(DAC_cal_dict1)\n",
    "results = df.values"
   ]
  },
  {
   "cell_type": "code",
   "execution_count": 91,
   "id": "d6857197",
   "metadata": {},
   "outputs": [
    {
     "name": "stdout",
     "output_type": "stream",
     "text": [
      "                                          ac_construction  \\\n",
      "fu      {['database', 'code', 'location', 'name', 'uni...   \n",
      "result           [(Gwp100, 8.526074759037426, kg CO2-Eq)]   \n",
      "\n",
      "                              pellet_reactor_construction  \\\n",
      "fu      {['database', 'code', 'location', 'name', 'uni...   \n",
      "result           [(Gwp100, 2.071779258587415, kg CO2-Eq)]   \n",
      "\n",
      "                                    calciner_construction  \\\n",
      "fu      {['database', 'code', 'location', 'name', 'uni...   \n",
      "result          [(Gwp100, 1.8140130485184347, kg CO2-Eq)]   \n",
      "\n",
      "                                          other_equipment  \\\n",
      "fu      {['database', 'code', 'location', 'name', 'uni...   \n",
      "result           [(Gwp100, 3.569628519779356, kg CO2-Eq)]   \n",
      "\n",
      "                                   dac_operation_material  \\\n",
      "fu      {['database', 'code', 'location', 'name', 'uni...   \n",
      "result          [(Gwp100, 29.148959713307338, kg CO2-Eq)]   \n",
      "\n",
      "                                     dac_operation_energy  \\\n",
      "fu      {['database', 'code', 'location', 'name', 'uni...   \n",
      "result          [(Gwp100, 3439.1212786043798, kg CO2-Eq)]   \n",
      "\n",
      "                                                  dac_eol  \\\n",
      "fu      {['database', 'code', 'location', 'name', 'uni...   \n",
      "result         [(Gwp100, -28.099854520176976, kg CO2-Eq)]   \n",
      "\n",
      "                                       dac_operation_elec  \\\n",
      "fu      {['database', 'code', 'location', 'name', 'uni...   \n",
      "result          [(Gwp100, 192.61141270256923, kg CO2-Eq)]   \n",
      "\n",
      "                                       dac_operation_heat  \n",
      "fu      {['database', 'code', 'location', 'name', 'uni...  \n",
      "result          [(Gwp100, 429.28613821439694, kg CO2-Eq)]  \n"
     ]
    }
   ],
   "source": [
    "print(df)"
   ]
  },
  {
   "cell_type": "code",
   "execution_count": 44,
   "id": "b876e39b",
   "metadata": {},
   "outputs": [
    {
     "name": "stdout",
     "output_type": "stream",
     "text": [
      "[[{'Air Contactor Construction' (unit, GLO, None): 1}\n",
      "  {'Pellet Reactor Construction' (unit, GLO, None): 1}\n",
      "  {'Calciner Construction' (unit, GLO, None): 1}\n",
      "  {'Other Equipment' (unit, GLO, None): 1}\n",
      "  {'DAC Operation Material' (kg, GLO, None): 1}\n",
      "  {'DAC Operation Energy' (unit, GLO, None): 1}\n",
      "  {'DAC End of life' (unit, GLO, None): 1}\n",
      "  {'DAC Operation Electricity' (unit, GLO, None): 1} nan nan]\n",
      " [list([('Gwp100', 8.526074759037396, 'kg CO2-Eq'), ('Gwp100', 8.526074759037375, 'kg CO2-Eq')])\n",
      "  list([('Gwp100', 2.0717792585874006, 'kg CO2-Eq'), ('Gwp100', 2.0717792585873984, 'kg CO2-Eq')])\n",
      "  list([('Gwp100', 1.814013048518416, 'kg CO2-Eq'), ('Gwp100', 1.8140130485184118, 'kg CO2-Eq')])\n",
      "  list([('Gwp100', 3.569628519779339, 'kg CO2-Eq'), ('Gwp100', 3.5696285197793207, 'kg CO2-Eq')])\n",
      "  list([('Gwp100', 19.43263980887152, 'kg CO2-Eq'), ('Gwp100', 19.432639808871404, 'kg CO2-Eq')])\n",
      "  list([('Gwp100', 923.0258329441888, 'kg CO2-Eq'), ('Gwp100', 1358.845068983799, 'kg CO2-Eq')])\n",
      "  list([('Gwp100', -19.803961094243622, 'kg CO2-Eq'), ('Gwp100', -19.803961094243604, 'kg CO2-Eq')])\n",
      "  list([('Gwp100', 0.0, 'kg CO2-Eq'), ('Gwp100', 0.0, 'kg CO2-Eq')]) nan\n",
      "  nan]]\n"
     ]
    }
   ],
   "source": [
    "print(results)"
   ]
  },
  {
   "cell_type": "code",
   "execution_count": null,
   "id": "f4f388c9",
   "metadata": {},
   "outputs": [],
   "source": []
  }
 ],
 "metadata": {
  "kernelspec": {
   "display_name": "Python 3",
   "language": "python",
   "name": "python3"
  },
  "language_info": {
   "codemirror_mode": {
    "name": "ipython",
    "version": 3
   },
   "file_extension": ".py",
   "mimetype": "text/x-python",
   "name": "python",
   "nbconvert_exporter": "python",
   "pygments_lexer": "ipython3",
   "version": "3.9.1"
  }
 },
 "nbformat": 4,
 "nbformat_minor": 5
}
